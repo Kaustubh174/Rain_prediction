{
 "cells": [
  {
   "cell_type": "markdown",
   "id": "2286b79c-4658-47c5-9b92-29f483fb053d",
   "metadata": {},
   "source": [
    "\n",
    "\n",
    "<h1 align=\"center\"><font size=\"5\">Rain Prediction</font></h1>\n"
   ]
  },
  {
   "cell_type": "markdown",
   "id": "1ff72243-51c5-43f8-a068-f51b26129f76",
   "metadata": {},
   "source": [
    "<h2>Table of Contents</h2>\n",
    "<div class=\"alert alert-block alert-info\" style=\"margin-top: 20px\">\n",
    "    <ul>\n",
    "    <li><a href=\"https://#Section_1\">Instructions</a></li>\n",
    "    <li><a href=\"https://#Section_2\">About the Data</a></li>\n",
    "    <li><a href=\"https://#Section_3\">Importing Data </a></li>\n",
    "    <li><a href=\"https://#Section_4\">Data Preprocessing</a> </li>\n",
    "    <li><a href=\"https://#Section_5\">One Hot Encoding </a></li>\n",
    "    <li><a href=\"https://#Section_6\">Train and Test Data Split </a></li>\n",
    "    <li><a href=\"https://#Section_7\">Train Logistic Regression, KNN, Decision Tree, SVM, and Linear Regression models and return their appropriate accuracy scores</a></li>\n",
    "</a></li>\n",
    "\n"
   ]
  },
  {
   "cell_type": "markdown",
   "id": "86eb3d6c-6c7b-4eea-a53b-4f02713b4bec",
   "metadata": {},
   "source": [
    "# Instructions\n"
   ]
  },
  {
   "cell_type": "markdown",
   "id": "ead7c400-ef26-4315-89dc-9c14d56b4453",
   "metadata": {},
   "source": [
    "In this notebook, you will  practice all the classification algorithms that we have learned in this course.\n",
    "\n",
    "\n",
    "Below, is where we are going to use the classification algorithms to create a model based on our training data and evaluate our testing data using evaluation metrics learned in the course.\n",
    "\n",
    "We will use some of the algorithms taught in the course, specifically:\n",
    "\n",
    "1. Linear Regression\n",
    "2. KNN\n",
    "3. Decision Trees\n",
    "4. Logistic Regression\n",
    "5. SVM\n",
    "\n",
    "We will evaluate our models using:\n",
    "\n",
    "1.  Accuracy Score\n",
    "2.  Jaccard Index\n",
    "3.  F1-Score\n",
    "4.  LogLoss\n",
    "5.  Mean Absolute Error\n",
    "6.  Mean Squared Error\n",
    "7.  R2-Score\n",
    "\n",
    "Finally, you will use your models to generate the report at the end. \n"
   ]
  },
  {
   "cell_type": "markdown",
   "id": "374126bb-a797-4d19-8763-3d080d584e8c",
   "metadata": {},
   "source": [
    "# About The Dataset\n"
   ]
  },
  {
   "cell_type": "markdown",
   "id": "c51d9782-82c3-416f-929b-6282f26bf8bf",
   "metadata": {},
   "source": [
    "The original source of the data is Australian Government's Bureau of Meteorology and the latest data can be gathered from [http://www.bom.gov.au/climate/dwo/](http://www.bom.gov.au/climate/dwo/?utm_medium=Exinfluencer&utm_source=Exinfluencer&utm_content=000026UJ&utm_term=10006555&utm_id=NA-SkillsNetwork-Channel-SkillsNetworkCoursesIBMDeveloperSkillsNetworkML0101ENSkillsNetwork20718538-2022-01-01).\n",
    "\n",
    "The dataset to be used has extra columns like 'RainToday' and our target is 'RainTomorrow', which was gathered from the Rattle at [https://bitbucket.org/kayontoga/rattle/src/master/data/weatherAUS.RData](https://bitbucket.org/kayontoga/rattle/src/master/data/weatherAUS.RData?utm_medium=Exinfluencer&utm_source=Exinfluencer&utm_content=000026UJ&utm_term=10006555&utm_id=NA-SkillsNetwork-Channel-SkillsNetworkCoursesIBMDeveloperSkillsNetworkML0101ENSkillsNetwork20718538-2022-01-01)\n",
    "\n",
    "\n"
   ]
  },
  {
   "cell_type": "markdown",
   "id": "e75936cd-253a-4c07-8609-20c60ff0becf",
   "metadata": {},
   "source": [
    "This dataset contains observations of weather metrics for each day from 2008 to 2017. The **weatherAUS.csv** dataset includes the following fields:\n",
    "\n",
    "| Field         | Description                                           | Unit            | Type   |\n",
    "| ------------- | ----------------------------------------------------- | --------------- | ------ |\n",
    "| Date          | Date of the Observation in YYYY-MM-DD                 | Date            | object |\n",
    "| Location      | Location of the Observation                           | Location        | object |\n",
    "| MinTemp       | Minimum temperature                                   | Celsius         | float  |\n",
    "| MaxTemp       | Maximum temperature                                   | Celsius         | float  |\n",
    "| Rainfall      | Amount of rainfall                                    | Millimeters     | float  |\n",
    "| Evaporation   | Amount of evaporation                                 | Millimeters     | float  |\n",
    "| Sunshine      | Amount of bright sunshine                             | hours           | float  |\n",
    "| WindGustDir   | Direction of the strongest gust                       | Compass Points  | object |\n",
    "| WindGustSpeed | Speed of the strongest gust                           | Kilometers/Hour | object |\n",
    "| WindDir9am    | Wind direction averaged of 10 minutes prior to 9am    | Compass Points  | object |\n",
    "| WindDir3pm    | Wind direction averaged of 10 minutes prior to 3pm    | Compass Points  | object |\n",
    "| WindSpeed9am  | Wind speed averaged of 10 minutes prior to 9am        | Kilometers/Hour | float  |\n",
    "| WindSpeed3pm  | Wind speed averaged of 10 minutes prior to 3pm        | Kilometers/Hour | float  |\n",
    "| Humidity9am   | Humidity at 9am                                       | Percent         | float  |\n",
    "| Humidity3pm   | Humidity at 3pm                                       | Percent         | float  |\n",
    "| Pressure9am   | Atmospheric pressure reduced to mean sea level at 9am | Hectopascal     | float  |\n",
    "| Pressure3pm   | Atmospheric pressure reduced to mean sea level at 3pm | Hectopascal     | float  |\n",
    "| Cloud9am      | Fraction of the sky obscured by cloud at 9am          | Eights          | float  |\n",
    "| Cloud3pm      | Fraction of the sky obscured by cloud at 3pm          | Eights          | float  |\n",
    "| Temp9am       | Temperature at 9am                                    | Celsius         | float  |\n",
    "| Temp3pm       | Temperature at 3pm                                    | Celsius         | float  |\n",
    "| RainToday     | If there was rain today                               | Yes/No          | object |\n",
    "| RainTomorrow  | If there is rain tomorrow                             | Yes/No          | float  |\n",
    "\n",
    "Column definitions were gathered from [http://www.bom.gov.au/climate/dwo/IDCJDW0000.shtml](http://www.bom.gov.au/climate/dwo/IDCJDW0000.shtml?utm_medium=Exinfluencer&utm_source=Exinfluencer&utm_content=000026UJ&utm_term=10006555&utm_id=NA-SkillsNetwork-Channel-SkillsNetworkCoursesIBMDeveloperSkillsNetworkML0101ENSkillsNetwork20718538-2022-01-01)\n",
    "\n"
   ]
  },
  {
   "cell_type": "markdown",
   "id": "8cd5057f-8ab6-4df2-a3cb-997899f6d114",
   "metadata": {},
   "source": [
    "## **Import the required libraries**\n"
   ]
  },
  {
   "cell_type": "code",
   "execution_count": null,
   "id": "47037c06-580e-4cd9-90a2-3a3896462774",
   "metadata": {},
   "outputs": [],
   "source": [
    "# All Libraries required for this lab are listed below. The libraries pre-installed on Skills Network Labs are commented.\n",
    "# !mamba install -qy pandas==1.3.4 numpy==1.21.4 seaborn==0.9.0 matplotlib==3.5.0 scikit-learn==0.20.1\n",
    "# Note: If your environment doesn't support \"!mamba install\", use \"!pip install\""
   ]
  },
  {
   "cell_type": "code",
   "execution_count": 1,
   "id": "d55cf508-f967-4784-b9a0-2c38d17747ca",
   "metadata": {},
   "outputs": [],
   "source": [
    "# Surpress warnings:\n",
    "def warn(*args, **kwargs):\n",
    "    pass\n",
    "import warnings\n",
    "warnings.warn = warn"
   ]
  },
  {
   "cell_type": "code",
   "execution_count": 2,
   "id": "45ba0a15-6ae1-42e9-903c-7c8c902afb3e",
   "metadata": {},
   "outputs": [],
   "source": [
    "import pandas as pd\n",
    "from sklearn.linear_model import LogisticRegression\n",
    "from sklearn.linear_model import LinearRegression\n",
    "from sklearn import preprocessing\n",
    "import numpy as np\n",
    "from sklearn.neighbors import KNeighborsClassifier\n",
    "from sklearn.model_selection import train_test_split\n",
    "from sklearn.neighbors import KNeighborsClassifier\n",
    "from sklearn.tree import DecisionTreeClassifier\n",
    "from sklearn import svm\n",
    "from sklearn.metrics import jaccard_score\n",
    "from sklearn.metrics import f1_score\n",
    "from sklearn.metrics import log_loss\n",
    "from sklearn.metrics import confusion_matrix, accuracy_score\n",
    "import sklearn.metrics as metrics"
   ]
  },
  {
   "cell_type": "markdown",
   "id": "114dea97-d1e6-45f2-9955-aebd36d5dac1",
   "metadata": {},
   "source": [
    "### Importing the Dataset\n"
   ]
  },
  {
   "cell_type": "code",
   "execution_count": 3,
   "metadata": {},
   "outputs": [
    {
     "name": "stdout",
     "output_type": "stream",
     "text": [
      "Download successful.\n"
     ]
    }
   ],
   "source": [
    "import requests\n",
    "\n",
    "def download(url, filename):\n",
    "    response = requests.get(url)\n",
    "    if response.status_code == 200:\n",
    "        with open(filename, \"wb\") as f:\n",
    "            f.write(response.content)\n",
    "            print(\"Download successful.\")\n",
    "    else:\n",
    "        print(\"Failed to download:\", response.status_code)\n",
    "\n",
    "path = 'https://cf-courses-data.s3.us.cloud-object-storage.appdomain.cloud/IBMDeveloperSkillsNetwork-ML0101EN-SkillUp/labs/ML-FinalAssignment/Weather_Data.csv'\n",
    "download(path, \"Weather_Data.csv\")\n"
   ]
  },
  {
   "cell_type": "code",
   "execution_count": 4,
   "id": "364fe315-082a-4255-b07e-f0cd75216a70",
   "metadata": {},
   "outputs": [
    {
     "data": {
      "text/html": [
       "<div>\n",
       "<style scoped>\n",
       "    .dataframe tbody tr th:only-of-type {\n",
       "        vertical-align: middle;\n",
       "    }\n",
       "\n",
       "    .dataframe tbody tr th {\n",
       "        vertical-align: top;\n",
       "    }\n",
       "\n",
       "    .dataframe thead th {\n",
       "        text-align: right;\n",
       "    }\n",
       "</style>\n",
       "<table border=\"1\" class=\"dataframe\">\n",
       "  <thead>\n",
       "    <tr style=\"text-align: right;\">\n",
       "      <th></th>\n",
       "      <th>Date</th>\n",
       "      <th>MinTemp</th>\n",
       "      <th>MaxTemp</th>\n",
       "      <th>Rainfall</th>\n",
       "      <th>Evaporation</th>\n",
       "      <th>Sunshine</th>\n",
       "      <th>WindGustDir</th>\n",
       "      <th>WindGustSpeed</th>\n",
       "      <th>WindDir9am</th>\n",
       "      <th>WindDir3pm</th>\n",
       "      <th>...</th>\n",
       "      <th>Humidity9am</th>\n",
       "      <th>Humidity3pm</th>\n",
       "      <th>Pressure9am</th>\n",
       "      <th>Pressure3pm</th>\n",
       "      <th>Cloud9am</th>\n",
       "      <th>Cloud3pm</th>\n",
       "      <th>Temp9am</th>\n",
       "      <th>Temp3pm</th>\n",
       "      <th>RainToday</th>\n",
       "      <th>RainTomorrow</th>\n",
       "    </tr>\n",
       "  </thead>\n",
       "  <tbody>\n",
       "    <tr>\n",
       "      <th>0</th>\n",
       "      <td>2/1/2008</td>\n",
       "      <td>19.5</td>\n",
       "      <td>22.4</td>\n",
       "      <td>15.6</td>\n",
       "      <td>6.2</td>\n",
       "      <td>0.0</td>\n",
       "      <td>W</td>\n",
       "      <td>41</td>\n",
       "      <td>S</td>\n",
       "      <td>SSW</td>\n",
       "      <td>...</td>\n",
       "      <td>92</td>\n",
       "      <td>84</td>\n",
       "      <td>1017.6</td>\n",
       "      <td>1017.4</td>\n",
       "      <td>8</td>\n",
       "      <td>8</td>\n",
       "      <td>20.7</td>\n",
       "      <td>20.9</td>\n",
       "      <td>Yes</td>\n",
       "      <td>Yes</td>\n",
       "    </tr>\n",
       "    <tr>\n",
       "      <th>1</th>\n",
       "      <td>2/2/2008</td>\n",
       "      <td>19.5</td>\n",
       "      <td>25.6</td>\n",
       "      <td>6.0</td>\n",
       "      <td>3.4</td>\n",
       "      <td>2.7</td>\n",
       "      <td>W</td>\n",
       "      <td>41</td>\n",
       "      <td>W</td>\n",
       "      <td>E</td>\n",
       "      <td>...</td>\n",
       "      <td>83</td>\n",
       "      <td>73</td>\n",
       "      <td>1017.9</td>\n",
       "      <td>1016.4</td>\n",
       "      <td>7</td>\n",
       "      <td>7</td>\n",
       "      <td>22.4</td>\n",
       "      <td>24.8</td>\n",
       "      <td>Yes</td>\n",
       "      <td>Yes</td>\n",
       "    </tr>\n",
       "    <tr>\n",
       "      <th>2</th>\n",
       "      <td>2/3/2008</td>\n",
       "      <td>21.6</td>\n",
       "      <td>24.5</td>\n",
       "      <td>6.6</td>\n",
       "      <td>2.4</td>\n",
       "      <td>0.1</td>\n",
       "      <td>W</td>\n",
       "      <td>41</td>\n",
       "      <td>ESE</td>\n",
       "      <td>ESE</td>\n",
       "      <td>...</td>\n",
       "      <td>88</td>\n",
       "      <td>86</td>\n",
       "      <td>1016.7</td>\n",
       "      <td>1015.6</td>\n",
       "      <td>7</td>\n",
       "      <td>8</td>\n",
       "      <td>23.5</td>\n",
       "      <td>23.0</td>\n",
       "      <td>Yes</td>\n",
       "      <td>Yes</td>\n",
       "    </tr>\n",
       "    <tr>\n",
       "      <th>3</th>\n",
       "      <td>2/4/2008</td>\n",
       "      <td>20.2</td>\n",
       "      <td>22.8</td>\n",
       "      <td>18.8</td>\n",
       "      <td>2.2</td>\n",
       "      <td>0.0</td>\n",
       "      <td>W</td>\n",
       "      <td>41</td>\n",
       "      <td>NNE</td>\n",
       "      <td>E</td>\n",
       "      <td>...</td>\n",
       "      <td>83</td>\n",
       "      <td>90</td>\n",
       "      <td>1014.2</td>\n",
       "      <td>1011.8</td>\n",
       "      <td>8</td>\n",
       "      <td>8</td>\n",
       "      <td>21.4</td>\n",
       "      <td>20.9</td>\n",
       "      <td>Yes</td>\n",
       "      <td>Yes</td>\n",
       "    </tr>\n",
       "    <tr>\n",
       "      <th>4</th>\n",
       "      <td>2/5/2008</td>\n",
       "      <td>19.7</td>\n",
       "      <td>25.7</td>\n",
       "      <td>77.4</td>\n",
       "      <td>4.8</td>\n",
       "      <td>0.0</td>\n",
       "      <td>W</td>\n",
       "      <td>41</td>\n",
       "      <td>NNE</td>\n",
       "      <td>W</td>\n",
       "      <td>...</td>\n",
       "      <td>88</td>\n",
       "      <td>74</td>\n",
       "      <td>1008.3</td>\n",
       "      <td>1004.8</td>\n",
       "      <td>8</td>\n",
       "      <td>8</td>\n",
       "      <td>22.5</td>\n",
       "      <td>25.5</td>\n",
       "      <td>Yes</td>\n",
       "      <td>Yes</td>\n",
       "    </tr>\n",
       "  </tbody>\n",
       "</table>\n",
       "<p>5 rows × 22 columns</p>\n",
       "</div>"
      ],
      "text/plain": [
       "       Date  MinTemp  MaxTemp  Rainfall  Evaporation  Sunshine WindGustDir  \\\n",
       "0  2/1/2008     19.5     22.4      15.6          6.2       0.0           W   \n",
       "1  2/2/2008     19.5     25.6       6.0          3.4       2.7           W   \n",
       "2  2/3/2008     21.6     24.5       6.6          2.4       0.1           W   \n",
       "3  2/4/2008     20.2     22.8      18.8          2.2       0.0           W   \n",
       "4  2/5/2008     19.7     25.7      77.4          4.8       0.0           W   \n",
       "\n",
       "   WindGustSpeed WindDir9am WindDir3pm  ...  Humidity9am  Humidity3pm  \\\n",
       "0             41          S        SSW  ...           92           84   \n",
       "1             41          W          E  ...           83           73   \n",
       "2             41        ESE        ESE  ...           88           86   \n",
       "3             41        NNE          E  ...           83           90   \n",
       "4             41        NNE          W  ...           88           74   \n",
       "\n",
       "   Pressure9am  Pressure3pm  Cloud9am  Cloud3pm  Temp9am  Temp3pm  RainToday  \\\n",
       "0       1017.6       1017.4         8         8     20.7     20.9        Yes   \n",
       "1       1017.9       1016.4         7         7     22.4     24.8        Yes   \n",
       "2       1016.7       1015.6         7         8     23.5     23.0        Yes   \n",
       "3       1014.2       1011.8         8         8     21.4     20.9        Yes   \n",
       "4       1008.3       1004.8         8         8     22.5     25.5        Yes   \n",
       "\n",
       "   RainTomorrow  \n",
       "0           Yes  \n",
       "1           Yes  \n",
       "2           Yes  \n",
       "3           Yes  \n",
       "4           Yes  \n",
       "\n",
       "[5 rows x 22 columns]"
      ]
     },
     "execution_count": 4,
     "metadata": {},
     "output_type": "execute_result"
    }
   ],
   "source": [
    "df = pd.read_csv(\"Weather_Data.csv\")\n",
    "df.head()"
   ]
  },
  {
   "cell_type": "markdown",
   "id": "49789b4d-0b96-433f-a9b2-e0e92dbdc3a4",
   "metadata": {},
   "source": [
    "### Data Preprocessing\n"
   ]
  },
  {
   "cell_type": "markdown",
   "id": "8a6f347b-73e9-428c-818d-2d4d943df0bd",
   "metadata": {},
   "source": [
    "#### One Hot Encoding\n"
   ]
  },
  {
   "cell_type": "markdown",
   "id": "b4438438-2335-42f5-a9e4-9c6f102ec0bf",
   "metadata": {},
   "source": [
    "First, we need to perform one hot encoding to convert categorical variables to binary variables.\n"
   ]
  },
  {
   "cell_type": "code",
   "execution_count": 5,
   "id": "e9bb7083-34db-4eaf-878e-d9e62f7fe352",
   "metadata": {},
   "outputs": [],
   "source": [
    "df_sydney_processed = pd.get_dummies(data=df, columns=['RainToday', 'WindGustDir', 'WindDir9am', 'WindDir3pm'])"
   ]
  },
  {
   "cell_type": "markdown",
   "id": "e2d8b302-b050-47ea-bb94-8010a697cdb3",
   "metadata": {},
   "source": [
    "Next, we replace the values of the 'RainTomorrow' column changing them from a categorical column to a binary column. We do not use the `get_dummies` method because we would end up with two columns for 'RainTomorrow' and we do not want, since 'RainTomorrow' is our target.\n"
   ]
  },
  {
   "cell_type": "code",
   "execution_count": 6,
   "id": "2081b0cd-2c0c-459a-adf8-05ee85b6b8b3",
   "metadata": {},
   "outputs": [],
   "source": [
    "df_sydney_processed.replace(['No', 'Yes'], [0,1], inplace=True)"
   ]
  },
  {
   "cell_type": "markdown",
   "id": "7fa9af32-5b06-4d65-8716-a88f629771f3",
   "metadata": {},
   "source": [
    "### Training Data and Test Data\n"
   ]
  },
  {
   "cell_type": "markdown",
   "id": "4e795750-5a3e-4da5-b4d2-c34dc48de8d8",
   "metadata": {},
   "source": [
    "Now, we set our 'features' or x values and our Y or target variable.\n"
   ]
  },
  {
   "cell_type": "code",
   "execution_count": 7,
   "id": "e122dd1b-e167-4736-a80d-6288fdceebe1",
   "metadata": {},
   "outputs": [],
   "source": [
    "df_sydney_processed.drop('Date',axis=1,inplace=True)"
   ]
  },
  {
   "cell_type": "code",
   "execution_count": 8,
   "id": "ce454282-cb2f-44fb-ac3e-aaf45c4f8234",
   "metadata": {},
   "outputs": [],
   "source": [
    "df_sydney_processed = df_sydney_processed.astype(float)"
   ]
  },
  {
   "cell_type": "code",
   "execution_count": 9,
   "id": "760425a3-ef75-4bb7-be23-5fb572d08a32",
   "metadata": {},
   "outputs": [],
   "source": [
    "features = df_sydney_processed.drop(columns='RainTomorrow', axis=1)\n",
    "Y = df_sydney_processed['RainTomorrow']"
   ]
  },
  {
   "cell_type": "markdown",
   "id": "b48559a0-48be-4e78-8268-827e17f9b2ab",
   "metadata": {},
   "source": [
    "### Linear Regression\n"
   ]
  },
  {
   "cell_type": "markdown",
   "id": "ad13a058-92a9-4885-bf9d-da1ea61e772e",
   "metadata": {},
   "source": [
    "#### Q1) Use the `train_test_split` function to split the `features` and `Y` dataframes with a `test_size` of `0.2` and the `random_state` set to `10`.\n"
   ]
  },
  {
   "cell_type": "code",
   "execution_count": 10,
   "id": "91587f68-541a-4a83-93b4-4937d6b11c5e",
   "metadata": {},
   "outputs": [],
   "source": [
    "#Enter Your Code, Execute and take the Screenshot"
   ]
  },
  {
   "cell_type": "code",
   "execution_count": 11,
   "id": "f1bc59ee-f73b-4463-8792-b434e4d6172a",
   "metadata": {},
   "outputs": [],
   "source": [
    "x_train, x_test, y_train, y_test = train_test_split(features, Y, test_size=0.2, random_state=10)"
   ]
  },
  {
   "cell_type": "markdown",
   "id": "e05c7d19-5297-4027-8ca8-c202854dc54d",
   "metadata": {},
   "source": [
    "#### Q2) Create and train a Linear Regression model called LinearReg using the training data (`x_train`, `y_train`).\n"
   ]
  },
  {
   "cell_type": "code",
   "execution_count": 12,
   "id": "cde54e64-60fa-406c-bb4a-0202d0f53e97",
   "metadata": {},
   "outputs": [],
   "source": [
    "#Enter Your Code, Execute and take the Screenshot"
   ]
  },
  {
   "cell_type": "code",
   "execution_count": 13,
   "id": "efac07df-73b7-488d-822c-9bf7217c7919",
   "metadata": {},
   "outputs": [
    {
     "data": {
      "text/html": [
       "<style>#sk-container-id-1 {color: black;}#sk-container-id-1 pre{padding: 0;}#sk-container-id-1 div.sk-toggleable {background-color: white;}#sk-container-id-1 label.sk-toggleable__label {cursor: pointer;display: block;width: 100%;margin-bottom: 0;padding: 0.3em;box-sizing: border-box;text-align: center;}#sk-container-id-1 label.sk-toggleable__label-arrow:before {content: \"▸\";float: left;margin-right: 0.25em;color: #696969;}#sk-container-id-1 label.sk-toggleable__label-arrow:hover:before {color: black;}#sk-container-id-1 div.sk-estimator:hover label.sk-toggleable__label-arrow:before {color: black;}#sk-container-id-1 div.sk-toggleable__content {max-height: 0;max-width: 0;overflow: hidden;text-align: left;background-color: #f0f8ff;}#sk-container-id-1 div.sk-toggleable__content pre {margin: 0.2em;color: black;border-radius: 0.25em;background-color: #f0f8ff;}#sk-container-id-1 input.sk-toggleable__control:checked~div.sk-toggleable__content {max-height: 200px;max-width: 100%;overflow: auto;}#sk-container-id-1 input.sk-toggleable__control:checked~label.sk-toggleable__label-arrow:before {content: \"▾\";}#sk-container-id-1 div.sk-estimator input.sk-toggleable__control:checked~label.sk-toggleable__label {background-color: #d4ebff;}#sk-container-id-1 div.sk-label input.sk-toggleable__control:checked~label.sk-toggleable__label {background-color: #d4ebff;}#sk-container-id-1 input.sk-hidden--visually {border: 0;clip: rect(1px 1px 1px 1px);clip: rect(1px, 1px, 1px, 1px);height: 1px;margin: -1px;overflow: hidden;padding: 0;position: absolute;width: 1px;}#sk-container-id-1 div.sk-estimator {font-family: monospace;background-color: #f0f8ff;border: 1px dotted black;border-radius: 0.25em;box-sizing: border-box;margin-bottom: 0.5em;}#sk-container-id-1 div.sk-estimator:hover {background-color: #d4ebff;}#sk-container-id-1 div.sk-parallel-item::after {content: \"\";width: 100%;border-bottom: 1px solid gray;flex-grow: 1;}#sk-container-id-1 div.sk-label:hover label.sk-toggleable__label {background-color: #d4ebff;}#sk-container-id-1 div.sk-serial::before {content: \"\";position: absolute;border-left: 1px solid gray;box-sizing: border-box;top: 0;bottom: 0;left: 50%;z-index: 0;}#sk-container-id-1 div.sk-serial {display: flex;flex-direction: column;align-items: center;background-color: white;padding-right: 0.2em;padding-left: 0.2em;position: relative;}#sk-container-id-1 div.sk-item {position: relative;z-index: 1;}#sk-container-id-1 div.sk-parallel {display: flex;align-items: stretch;justify-content: center;background-color: white;position: relative;}#sk-container-id-1 div.sk-item::before, #sk-container-id-1 div.sk-parallel-item::before {content: \"\";position: absolute;border-left: 1px solid gray;box-sizing: border-box;top: 0;bottom: 0;left: 50%;z-index: -1;}#sk-container-id-1 div.sk-parallel-item {display: flex;flex-direction: column;z-index: 1;position: relative;background-color: white;}#sk-container-id-1 div.sk-parallel-item:first-child::after {align-self: flex-end;width: 50%;}#sk-container-id-1 div.sk-parallel-item:last-child::after {align-self: flex-start;width: 50%;}#sk-container-id-1 div.sk-parallel-item:only-child::after {width: 0;}#sk-container-id-1 div.sk-dashed-wrapped {border: 1px dashed gray;margin: 0 0.4em 0.5em 0.4em;box-sizing: border-box;padding-bottom: 0.4em;background-color: white;}#sk-container-id-1 div.sk-label label {font-family: monospace;font-weight: bold;display: inline-block;line-height: 1.2em;}#sk-container-id-1 div.sk-label-container {text-align: center;}#sk-container-id-1 div.sk-container {/* jupyter's `normalize.less` sets `[hidden] { display: none; }` but bootstrap.min.css set `[hidden] { display: none !important; }` so we also need the `!important` here to be able to override the default hidden behavior on the sphinx rendered scikit-learn.org. See: https://github.com/scikit-learn/scikit-learn/issues/21755 */display: inline-block !important;position: relative;}#sk-container-id-1 div.sk-text-repr-fallback {display: none;}</style><div id=\"sk-container-id-1\" class=\"sk-top-container\"><div class=\"sk-text-repr-fallback\"><pre>LinearRegression()</pre><b>In a Jupyter environment, please rerun this cell to show the HTML representation or trust the notebook. <br />On GitHub, the HTML representation is unable to render, please try loading this page with nbviewer.org.</b></div><div class=\"sk-container\" hidden><div class=\"sk-item\"><div class=\"sk-estimator sk-toggleable\"><input class=\"sk-toggleable__control sk-hidden--visually\" id=\"sk-estimator-id-1\" type=\"checkbox\" checked><label for=\"sk-estimator-id-1\" class=\"sk-toggleable__label sk-toggleable__label-arrow\">LinearRegression</label><div class=\"sk-toggleable__content\"><pre>LinearRegression()</pre></div></div></div></div></div>"
      ],
      "text/plain": [
       "LinearRegression()"
      ]
     },
     "execution_count": 13,
     "metadata": {},
     "output_type": "execute_result"
    }
   ],
   "source": [
    "LinearReg = LinearRegression()\n",
    "LinearReg.fit(x_train, y_train)"
   ]
  },
  {
   "cell_type": "markdown",
   "id": "253be0e9-43aa-4f39-9ede-bc99a99b6bde",
   "metadata": {},
   "source": [
    "#### Q3) Now use the `predict` method on the testing data (`x_test`) and save it to the array `predictions`.\n"
   ]
  },
  {
   "cell_type": "code",
   "execution_count": 14,
   "id": "8bc9bd92-2bf5-4886-96fc-72058796d921",
   "metadata": {},
   "outputs": [],
   "source": [
    "#Enter Your Code, Execute and take the Screenshot"
   ]
  },
  {
   "cell_type": "code",
   "execution_count": 15,
   "id": "838d1086-b315-40e1-b769-d16f298e03d7",
   "metadata": {},
   "outputs": [
    {
     "name": "stdout",
     "output_type": "stream",
     "text": [
      "[ 1.31824493e-01  2.76185036e-01  9.78165627e-01  2.87449837e-01\n",
      "  1.32413864e-01  4.60465431e-01  3.56778145e-01  8.56389999e-01\n",
      "  6.75009727e-01  3.82575989e-02  4.78458405e-03  2.81206131e-01\n",
      "  3.39076042e-01  7.80858994e-02  6.25934601e-02  5.64451218e-01\n",
      " -6.15615845e-02  5.24160385e-01  1.53694153e-01  3.59697342e-01\n",
      "  6.05278015e-02  9.03564453e-01  4.67318535e-01  2.03355789e-01\n",
      " -7.10306168e-02  3.83886337e-01  5.36084175e-01 -2.28958130e-02\n",
      "  6.40112877e-01 -9.56707001e-02  3.78071785e-01  1.20268822e-01\n",
      " -1.81512833e-02  5.53808212e-02  5.63529015e-01  1.06299210e+00\n",
      " -6.75106049e-03  5.14399529e-01 -8.84103775e-02  6.91995621e-02\n",
      "  2.44655609e-02  8.71741295e-01  2.44671822e-01  3.94720078e-01\n",
      "  2.67554283e-01  4.46786880e-01 -4.75654602e-02  1.89427376e-01\n",
      "  7.76608467e-01  1.57748222e-01  3.93009186e-03 -5.19704819e-02\n",
      "  2.07345963e-01 -2.07897186e-01 -7.61108398e-02  2.49640465e-01\n",
      "  2.79290199e-01  6.02786064e-01  6.29582405e-01  4.90635872e-01\n",
      "  5.64470291e-02  1.05485916e-01  6.70039177e-01  7.64840126e-01\n",
      "  9.84687805e-02 -6.32953644e-02  4.13821220e-01  7.25374222e-02\n",
      "  2.49922752e-01  2.56463051e-01  3.77721786e-02 -6.88714981e-02\n",
      "  3.48212242e-01  1.73071861e-01  4.15420532e-01 -7.24802017e-02\n",
      "  3.41132164e-01  1.86954498e-01 -1.54842377e-01  7.99768448e-01\n",
      "  2.32421875e-01  2.37353325e-01  2.56120682e-01  1.03467941e-01\n",
      "  6.20772362e-01  1.29739761e-01  3.71417046e-01  4.83041763e-01\n",
      "  3.08255196e-01  1.19419098e-01  5.48257828e-02  1.12812042e-01\n",
      " -1.62476540e-01 -1.58030510e-01  7.29055405e-02  7.76438713e-01\n",
      "  8.43143463e-02  6.43074036e-01  1.21768951e-01  1.78043365e-01\n",
      "  3.04930687e-01  1.85481071e-01  1.13147831e+00  3.44458580e-01\n",
      "  8.26853752e-01  5.38889885e-01  2.74311066e-01  6.29424095e-01\n",
      " -6.72550201e-02  9.63553429e-01  5.61914444e-01  2.34327316e-02\n",
      "  1.05617523e-01  9.38606262e-02  8.15372467e-02  2.92134285e-01\n",
      "  5.55067062e-01  6.69136047e-02  4.25481796e-02  9.41276550e-04\n",
      "  1.37672424e-01 -2.18016624e-01  7.01246262e-02  1.19814873e-01\n",
      "  1.92727089e-01 -3.82738113e-02  1.56002045e-01  7.12605476e-01\n",
      "  2.62328148e-01  5.34835815e-01  3.97801399e-01 -4.65011597e-02\n",
      "  2.44016647e-01  2.06289291e-01  2.80378342e-01 -1.28252029e-01\n",
      "  1.19499207e-01  3.83368492e-01  1.84375763e-01  7.28563309e-01\n",
      "  3.31818581e-01 -1.03244781e-01  2.39500046e-01  3.06018829e-01\n",
      "  6.63130760e-01  2.21261978e-02  1.60037994e-01  5.21626472e-01\n",
      " -4.34370041e-02  7.98401833e-01  2.21731186e-01  3.89891624e-01\n",
      " -5.63669205e-02  4.02364731e-01  2.34168053e-01  1.20393753e-01\n",
      "  3.05500984e-01  7.86223412e-01  3.32345963e-02  1.22550106e+00\n",
      "  8.94638062e-01  8.18099976e-02 -1.52187347e-02  1.71008110e-01\n",
      " -6.85749054e-02 -1.07851982e-01 -5.02233505e-02  2.98686028e-01\n",
      "  3.57072830e-01  9.57813263e-02  8.85313988e-01 -3.33585739e-02\n",
      "  5.99233627e-01  8.95557404e-02  9.83743668e-02  3.54104996e-01\n",
      "  2.35992432e-01 -6.72864914e-02  1.44300461e-01  4.17884827e-01\n",
      "  5.87435722e-01  2.16780663e-01 -3.33003998e-02  1.00634193e+00\n",
      "  4.25825119e-02 -1.73511505e-02  2.48305321e-01 -5.93490601e-02\n",
      "  2.22216606e-01 -7.19137192e-02  8.47101212e-02  7.15246201e-02\n",
      "  3.49254608e-02  4.43490028e-01  1.86807632e-01  1.83128357e-01\n",
      "  7.56406784e-02  1.36651993e-02  1.84666634e-01  2.32351303e-01\n",
      "  5.30614853e-01  1.60336494e-01  3.95283699e-01 -4.49228287e-02\n",
      "  8.39277267e-01  1.65958405e-02 -1.69906616e-02 -2.14099884e-02\n",
      "  1.46429062e-01  1.38094902e-01 -3.34749222e-02  4.14835930e-01\n",
      "  6.57271385e-01 -4.95052338e-03  2.86321640e-02  4.61244583e-02\n",
      " -7.21702576e-02  2.73767471e-01  5.28607368e-01 -5.90496063e-02\n",
      "  8.43163490e-01  3.25849533e-01  3.18870544e-01  3.63645554e-02\n",
      " -8.52069855e-02  2.83305168e-01  3.01280975e-01  1.37742996e-01\n",
      "  3.35827827e-01  4.12463188e-01  3.75241280e-01  1.24085426e-01\n",
      "  2.87873268e-01  9.06212807e-01  4.45535660e-01  2.74784088e-01\n",
      " -6.61468506e-03  6.91818237e-01  6.71927452e-01  1.15400314e-01\n",
      "  7.74550438e-01  9.94364738e-01  5.87639809e-01  3.14295769e-01\n",
      "  2.26386070e-01 -4.47397232e-02  2.25985527e-01  2.30592728e-01\n",
      "  3.54969978e-01 -1.26597404e-01  3.52258682e-02  1.82238579e-01\n",
      "  2.15337753e-01  1.76163673e-01 -2.96468735e-02  1.00052452e+00\n",
      "  1.88188553e-01  7.52110481e-01  6.19815826e-01  7.17823029e-01\n",
      "  3.15627098e-01  2.23627090e-02  3.26421738e-01 -6.90364838e-03\n",
      "  2.81575203e-01 -2.27766037e-02  7.98797607e-02 -2.34317780e-03\n",
      "  3.57098579e-01  1.36477470e-01  2.65769958e-01  1.39970779e-02\n",
      "  2.21062660e-01  7.07376480e-01  1.59524918e-01  2.04506874e-01\n",
      "  5.38245201e-01 -1.52583122e-01  2.54847527e-01  2.76406288e-01\n",
      "  2.64015198e-01  6.69069290e-02  9.74357605e-01  1.99999809e-01\n",
      "  7.55757332e-01 -3.49893570e-02  4.87681389e-01  5.89275360e-03\n",
      " -7.24439621e-02  3.05648804e-01 -2.05086708e-01  1.90977097e-01\n",
      " -2.46324539e-02 -7.71417618e-02  2.78951645e-01  7.84235001e-02\n",
      "  2.33909607e-01  4.44844246e-01  6.62364960e-02 -3.31268311e-02\n",
      "  5.83150864e-01  5.77850342e-02  3.20456505e-01  7.24198341e-01\n",
      "  1.35350227e-01 -2.21996307e-02  7.33073235e-01 -3.08280945e-01\n",
      "  1.09128571e+00  2.85931587e-01  8.85050774e-01  6.96587563e-01\n",
      "  5.85274696e-01 -2.22578049e-02  9.52052116e-01  7.14988708e-01\n",
      "  4.48488235e-01  5.80443382e-01  1.87108040e-01  2.29634285e-01\n",
      " -5.77945709e-02  3.15227509e-01  8.74664307e-01 -1.67713165e-02\n",
      "  2.52546310e-01 -3.35111618e-02 -4.39939499e-02  4.13303375e-02\n",
      "  2.35944748e-01  2.03051567e-01  8.82000923e-01  5.87247849e-01\n",
      "  1.20086670e-01 -2.02665329e-02 -1.92832947e-02  1.03498459e-01\n",
      "  8.29505920e-03  2.29162216e-01 -1.69553757e-02  7.15341568e-02\n",
      "  1.62663460e-01  1.70105934e-01  2.46574402e-01  1.47723198e-01\n",
      "  3.91755104e-01 -6.66122437e-02  1.15669250e-01  1.84460640e-01\n",
      "  9.06867981e-02 -1.79862976e-02  2.09277153e-01 -1.30329132e-02\n",
      "  5.46440125e-01  4.15842056e-01  1.78166389e-01  1.72100067e-02\n",
      "  4.93849754e-01  1.47159576e-01  5.24809837e-01  5.98112106e-01\n",
      "  3.08279037e-01  3.09295654e-01  4.46416855e-01  1.68164253e-01\n",
      "  2.60766029e-01  7.56278992e-01  4.06197548e-01  4.90662575e-01\n",
      "  5.14289856e-01 -1.30234718e-01  7.90224075e-02  3.50565910e-01\n",
      "  1.00466061e+00  2.73425102e-01  6.35385513e-01  5.78580856e-01\n",
      "  4.68224525e-01  3.76129150e-03  3.59015465e-01  6.74619675e-02\n",
      " -4.23803329e-02  7.03297615e-01  1.27118111e-01  8.00078392e-01\n",
      "  4.70819473e-01 -1.74303055e-02  2.93273926e-02  5.55253029e-01\n",
      "  5.00936508e-02  1.15248680e-01 -9.70458984e-03  1.47492409e-01\n",
      "  4.71175194e-01 -9.27000046e-02  8.08696747e-02  3.10258865e-02\n",
      "  3.94787788e-01  2.23751068e-01  1.00331879e+00  7.08090782e-01\n",
      "  3.56011391e-01  2.62947083e-01 -2.83765793e-02 -9.63115692e-03\n",
      "  3.09076309e-02  1.41733170e-01  7.82585144e-02  5.12597084e-01\n",
      "  2.04800606e-01  3.11712265e-01  5.28484344e-01  4.61890221e-01\n",
      "  5.35812378e-02  8.17258835e-01  5.33894539e-01 -1.38190269e-01\n",
      "  5.09419441e-01  1.94078445e-01  4.56185341e-01  1.85185432e-01\n",
      "  2.21969604e-01  1.15597725e-01  6.32724762e-02  7.36980438e-02\n",
      "  1.02422714e-01  5.51409721e-01  7.02954292e-01  5.22111893e-01\n",
      "  5.35078049e-01  3.19547653e-02  1.11079216e-01 -1.18647575e-01\n",
      "  5.31891823e-01 -1.74416542e-01  4.54454422e-01  9.74385262e-01\n",
      "  4.18177605e-01 -1.16012573e-01  8.70699883e-01  1.62193298e-01\n",
      "  6.13056183e-01  3.17187309e-01 -7.86495209e-02  4.93944168e-01\n",
      "  7.44886398e-01  6.05468750e-02  6.03713989e-02  2.36819267e-01\n",
      "  5.79184532e-01  1.10727310e-01  3.81830215e-01  6.02240562e-01\n",
      "  5.84344864e-02  2.21823692e-01  3.89007568e-01  6.63735390e-01\n",
      "  1.56120300e-01  3.97303581e-01  5.80155373e-01  5.03783226e-01\n",
      "  1.06425285e-01  1.49775505e-01  2.33256340e-01 -3.35311890e-03\n",
      " -2.86245346e-02  2.65902519e-01  2.60573387e-01 -6.16445541e-02\n",
      "  1.46271706e-01  8.24793816e-01  5.68481445e-01 -9.56220627e-02\n",
      " -1.02432251e-01  8.49256516e-02  1.61635399e-01 -7.92398453e-02\n",
      "  9.43906784e-01  7.93914795e-02  3.38423729e-01  1.57978058e-01\n",
      " -6.93826675e-02  2.15106964e-01  4.78868484e-01  2.15759277e-02\n",
      "  5.34422874e-01  1.42534256e-01 -1.58410072e-01  9.96875763e-03\n",
      "  2.26729393e-01  3.34780693e-01  6.04648590e-02 -2.09379196e-02\n",
      " -1.07866287e-01  3.34327698e-01  5.10157585e-01  3.45956802e-01\n",
      " -8.66956711e-02 -4.99696732e-02  5.05317688e-01  8.22429657e-02\n",
      "  6.74896240e-02  3.23148727e-01  3.38201523e-01  5.37303925e-01\n",
      "  2.91819572e-01  3.30545425e-01 -4.10461426e-02  8.27467918e-01\n",
      "  6.03426933e-01  2.36688614e-01  7.02321053e-01  4.44661140e-01\n",
      "  5.81158638e-01  1.90037727e-01  5.45206070e-02  9.38320160e-02\n",
      " -6.77270889e-02  1.05974197e-01 -2.49490738e-02 -2.94551849e-02\n",
      "  6.55889511e-02  9.60912704e-02  1.03290558e-01  1.77727699e-01\n",
      "  1.02109909e-01  6.64117813e-01  1.97711945e-01  1.04735374e-01\n",
      "  1.13422394e-01 -3.24726105e-02  1.46582603e-01  4.64951515e-01\n",
      "  7.55558014e-01  2.03917503e-01  4.90141869e-01 -1.01319313e-01\n",
      "  6.61658287e-01  7.53470421e-01  9.01062012e-01  7.72957802e-01\n",
      "  2.73417473e-01  2.98065186e-01  1.87129974e-01  7.19880104e-01\n",
      "  2.29814529e-01  3.34663391e-01  8.51562500e-01  3.06644440e-02\n",
      " -3.70502472e-03 -7.81545639e-02  7.49820709e-01  2.04632759e-01\n",
      "  4.06049728e-01  3.32277298e-01  1.81984901e-01  8.23362350e-01\n",
      "  5.03199577e-01  6.34028435e-01 -5.08298874e-02  4.25767899e-02\n",
      "  1.11129761e-01  1.89188957e-01  6.01010323e-01  4.09037590e-01\n",
      "  6.87735558e-01  2.89891243e-01 -9.20696259e-02  4.46596146e-02\n",
      "  1.98925972e-01  6.18896484e-01  1.41850471e-01  6.98908806e-01\n",
      "  3.11860085e-01  1.26821518e-01  8.11484337e-01  6.24723434e-02\n",
      " -1.04448318e-01  6.59790039e-02  1.23674393e-01  5.18718719e-01\n",
      " -5.96561432e-02  6.39727592e-01 -1.29871368e-02  3.84378433e-02\n",
      " -1.04923248e-01  1.96538925e-01  3.36143494e-01  4.88018990e-01\n",
      "  1.93824768e-01  7.93251038e-01  1.69400215e-01  8.55846405e-02\n",
      "  1.68641090e-01  1.73192024e-01  3.23810577e-02  4.69259262e-01\n",
      "  2.03078270e-01  8.46708298e-01  4.20863152e-01  2.17930794e-01\n",
      "  1.81145668e-01  1.54853821e-01  7.26314545e-01  4.45237160e-01\n",
      "  4.87506866e-01  1.01610184e-01  4.13134575e-01 -1.13224983e-01\n",
      "  1.79376602e-01 -9.76085663e-03  1.39084816e-01  1.12007141e-01\n",
      "  6.09592438e-01  2.16436386e-02  1.88296318e-01 -1.35339737e-01\n",
      "  7.06461906e-01  4.33102608e-01 -5.83467484e-02  9.28728104e-01\n",
      "  5.40618896e-01 -1.66416168e-03  9.19008255e-01 -2.18791962e-02\n",
      "  1.65431023e-01  1.77809715e-01  4.72887039e-01 -2.82955170e-03\n",
      "  4.00382042e-01  1.42021179e-02  1.95342064e-01 -6.80112839e-02\n",
      "  5.87231636e-01  1.92465782e-01  2.33326912e-01  2.73653984e-01\n",
      "  9.40687180e-01  7.10113525e-01  1.33392334e-01  7.37285614e-02\n",
      "  5.58309555e-02 -2.26408005e-01  4.10966873e-02  5.17072678e-02\n",
      "  3.10115814e-02  2.93613434e-01  9.69357491e-01  7.98659325e-01\n",
      " -2.29921341e-02  5.26685715e-02  2.64837265e-01  1.75173759e-01\n",
      "  7.06326485e-01  1.73843384e-01  3.44305992e-01]\n"
     ]
    }
   ],
   "source": [
    "predictions = LinearReg.predict(x_test)\n",
    "print(predictions)"
   ]
  },
  {
   "cell_type": "markdown",
   "id": "aa6a63d3-ebbd-487d-8bb4-84842f9055b7",
   "metadata": {},
   "source": [
    "#### Q4) Using the `predictions` and the `y_test` dataframe calculate the value for each metric using the appropriate function.\n"
   ]
  },
  {
   "cell_type": "code",
   "execution_count": 16,
   "id": "8e5159d8-cf4e-4bca-8e40-7b9dd5e5b576",
   "metadata": {},
   "outputs": [],
   "source": [
    "#Enter Your Code, Execute and take the Screenshot"
   ]
  },
  {
   "cell_type": "code",
   "execution_count": 17,
   "id": "dbdbc541-8333-4a28-808e-c100cd8d10ef",
   "metadata": {},
   "outputs": [],
   "source": [
    "from sklearn.metrics import mean_absolute_error, mean_squared_error, r2_score\n",
    "\n",
    "LinearRegression_MAE = mean_absolute_error(y_test, predictions)\n",
    "LinearRegression_MSE = mean_squared_error(y_test,predictions)\n",
    "LinearRegression_R2 = r2_score(y_test,predictions)"
   ]
  },
  {
   "cell_type": "markdown",
   "id": "e86e7cf3-ca5c-4054-8423-84594808f1d7",
   "metadata": {},
   "source": [
    "#### Q5) Show the MAE, MSE, and R2 in a tabular format using data frame for the linear model.\n"
   ]
  },
  {
   "cell_type": "code",
   "execution_count": 18,
   "id": "309d61c2-b2f7-4445-aa5b-706347e3fe27",
   "metadata": {},
   "outputs": [],
   "source": [
    "#Enter Your Code, Execute and take the Screenshot"
   ]
  },
  {
   "cell_type": "code",
   "execution_count": 19,
   "id": "71cb1320-34c6-4359-922d-3f0dc5344fd2",
   "metadata": {},
   "outputs": [
    {
     "name": "stdout",
     "output_type": "stream",
     "text": [
      "                      Metric     Value\n",
      "0  Mean Absolute Error (MAE)  0.256317\n",
      "1   Mean Squared Error (MSE)  0.115721\n",
      "2             R-squared (R2)  0.427132\n"
     ]
    }
   ],
   "source": [
    "Report = pd.DataFrame({'Metric': ['Mean Absolute Error (MAE)', 'Mean Squared Error (MSE)', 'R-squared (R2)'],\n",
    "                       'Value': [LinearRegression_MAE, LinearRegression_MSE, LinearRegression_R2]})\n",
    "print(Report)\n"
   ]
  },
  {
   "cell_type": "markdown",
   "id": "86cc3e76-f489-4a59-b435-f527c208610d",
   "metadata": {},
   "source": [
    "### KNN\n"
   ]
  },
  {
   "cell_type": "markdown",
   "id": "9912cd81-1de8-4e82-9c70-f0ed9b4d2fb0",
   "metadata": {},
   "source": [
    "#### Q6) Create and train a KNN model called KNN using the training data (`x_train`, `y_train`) with the `n_neighbors` parameter set to `4`.\n"
   ]
  },
  {
   "cell_type": "code",
   "execution_count": 20,
   "id": "64793e85-af1c-486e-8688-f8faf6512627",
   "metadata": {},
   "outputs": [],
   "source": [
    "#Enter Your Code Below, Execute, and Save the Screenshot of the Final Output"
   ]
  },
  {
   "cell_type": "code",
   "execution_count": 51,
   "id": "480b5e80-3c4e-4a93-804e-5051b1dcfda2",
   "metadata": {},
   "outputs": [],
   "source": [
    "KNN = KNeighborsClassifier(n_neighbors = 4)\n",
    "KNN.fit(x_train,y_train)\n",
    "x_test1 = preprocessing.StandardScaler().fit(x_test).transform(x_test.astype(float))"
   ]
  },
  {
   "cell_type": "markdown",
   "id": "5b0374cd-b8ee-4768-8408-c08d67dfb0d9",
   "metadata": {},
   "source": [
    "#### Q7) Now use the `predict` method on the testing data (`x_test`) and save it to the array `predictions`.\n"
   ]
  },
  {
   "cell_type": "code",
   "execution_count": 22,
   "id": "f6f49130-a0c2-4fb1-ba00-2c36beaa5864",
   "metadata": {},
   "outputs": [],
   "source": [
    "#Enter Your Code Below, Execute, and Save the Screenshot of the Final Output"
   ]
  },
  {
   "cell_type": "code",
   "execution_count": 53,
   "id": "c0f89ed3-5afd-4326-9304-05ecf5b1cc29",
   "metadata": {},
   "outputs": [
    {
     "data": {
      "text/plain": [
       "array([0., 0., 0., 0., 0., 0., 0., 0., 0., 0., 0., 0., 0., 0., 0., 0., 0.,\n",
       "       0., 0., 0., 0., 0., 0., 0., 0., 0., 0., 0., 0., 0., 0., 0., 0., 0.,\n",
       "       0., 0., 0., 0., 0., 0., 0., 0., 0., 0., 0., 0., 0., 0., 0., 0., 0.,\n",
       "       0., 0., 0., 0., 0., 0., 0., 0., 0., 0., 0., 0., 0., 0., 0., 0., 0.,\n",
       "       0., 0., 0., 0., 0., 0., 0., 0., 0., 0., 0., 0., 0., 0., 0., 0., 0.,\n",
       "       0., 0., 0., 0., 0., 0., 0., 0., 0., 0., 0., 0., 0., 0., 0., 0., 0.,\n",
       "       0., 0., 0., 0., 0., 0., 0., 0., 0., 0., 0., 0., 0., 0., 0., 0., 0.,\n",
       "       0., 0., 0., 0., 0., 0., 0., 0., 0., 0., 0., 0., 0., 0., 0., 0., 0.,\n",
       "       0., 0., 0., 0., 0., 0., 0., 0., 0., 0., 0., 0., 0., 0., 0., 0., 0.,\n",
       "       0., 0., 0., 0., 0., 0., 0., 0., 0., 0., 0., 0., 0., 0., 0., 0., 0.,\n",
       "       0., 0., 0., 0., 0., 0., 0., 0., 0., 0., 0., 0., 0., 0., 0., 0., 0.,\n",
       "       0., 0., 0., 0., 0., 0., 0., 0., 0., 0., 0., 0., 0., 0., 0., 0., 0.,\n",
       "       0., 0., 0., 0., 0., 0., 0., 0., 0., 0., 0., 0., 0., 0., 0., 0., 0.,\n",
       "       0., 0., 0., 0., 0., 0., 0., 0., 0., 0., 0., 0., 0., 0., 0., 0., 0.,\n",
       "       0., 0., 0., 0., 0., 0., 0., 0., 0., 0., 0., 0., 0., 0., 0., 0., 0.,\n",
       "       0., 0., 0., 0., 0., 0., 0., 0., 0., 0., 0., 0., 0., 0., 0., 0., 0.,\n",
       "       0., 0., 0., 0., 0., 0., 0., 0., 0., 0., 0., 0., 0., 0., 0., 0., 0.,\n",
       "       0., 0., 0., 0., 0., 0., 0., 0., 0., 0., 0., 0., 0., 0., 0., 0., 0.,\n",
       "       0., 0., 0., 0., 0., 0., 0., 0., 0., 0., 0., 0., 0., 0., 0., 0., 0.,\n",
       "       0., 0., 0., 0., 0., 0., 0., 0., 0., 0., 0., 0., 0., 0., 0., 0., 0.,\n",
       "       0., 0., 0., 0., 0., 0., 0., 0., 0., 0., 0., 0., 0., 0., 0., 0., 0.,\n",
       "       0., 0., 0., 0., 0., 0., 0., 0., 0., 0., 0., 0., 0., 0., 0., 0., 0.,\n",
       "       0., 0., 0., 0., 0., 0., 0., 0., 0., 0., 0., 0., 0., 0., 0., 0., 0.,\n",
       "       0., 0., 0., 0., 0., 0., 0., 0., 0., 0., 0., 0., 0., 0., 0., 0., 0.,\n",
       "       0., 0., 0., 0., 0., 0., 0., 0., 0., 0., 0., 0., 0., 0., 0., 0., 0.,\n",
       "       0., 0., 0., 0., 0., 0., 0., 0., 0., 0., 0., 0., 0., 0., 0., 0., 0.,\n",
       "       0., 0., 0., 0., 0., 0., 0., 0., 0., 0., 0., 0., 0., 0., 0., 0., 0.,\n",
       "       0., 0., 0., 0., 0., 0., 0., 0., 0., 0., 0., 0., 0., 0., 0., 0., 0.,\n",
       "       0., 0., 0., 0., 0., 0., 0., 0., 0., 0., 0., 0., 0., 0., 0., 0., 0.,\n",
       "       0., 0., 0., 0., 0., 0., 0., 0., 0., 0., 0., 0., 0., 0., 0., 0., 0.,\n",
       "       0., 0., 0., 0., 0., 0., 0., 0., 0., 0., 0., 0., 0., 0., 0., 0., 0.,\n",
       "       0., 0., 0., 0., 0., 0., 0., 0., 0., 0., 0., 0., 0., 0., 0., 0., 0.,\n",
       "       0., 0., 0., 0., 0., 0., 0., 0., 0., 0., 0., 0., 0., 0., 0., 0., 0.,\n",
       "       0., 0., 0., 0., 0., 0., 0., 0., 0., 0., 0., 0., 0., 0., 0., 0., 0.,\n",
       "       0., 0., 0., 0., 0., 0., 0., 0., 0., 0., 0., 0., 0., 0., 0., 0., 0.,\n",
       "       0., 0., 0., 0., 0., 0., 0., 0., 0., 0., 0., 0., 0., 0., 0., 0., 0.,\n",
       "       0., 0., 0., 0., 0., 0., 0., 0., 0., 0., 0., 0., 0., 0., 0., 0., 0.,\n",
       "       0., 0., 0., 0., 0., 0., 0., 0., 0., 0., 0., 0., 0., 0., 0., 0., 0.,\n",
       "       0., 0., 0., 0., 0., 0., 0., 0., 0.])"
      ]
     },
     "execution_count": 53,
     "metadata": {},
     "output_type": "execute_result"
    }
   ],
   "source": [
    "predictions = KNN.predict(x_test1)\n",
    "predictions"
   ]
  },
  {
   "cell_type": "markdown",
   "id": "478aea0d-8374-4e7c-bf8b-9bacfbac7a7a",
   "metadata": {},
   "source": [
    "#### Q8) Using the `predictions` and the `y_test` dataframe calculate the value for each metric using the appropriate function.\n"
   ]
  },
  {
   "cell_type": "code",
   "execution_count": 24,
   "id": "e348651c-17f7-4b88-ac65-fe03f107a31a",
   "metadata": {},
   "outputs": [],
   "source": [
    "#Enter Your Code Below, Execute, and Save the Screenshot of the Final Output"
   ]
  },
  {
   "cell_type": "code",
   "execution_count": 25,
   "id": "a8d0c572-7d3b-43e9-8a7d-1ff1bb006db1",
   "metadata": {},
   "outputs": [
    {
     "name": "stdout",
     "output_type": "stream",
     "text": [
      "KNN_Accuracy_Score = 0.7190839694656489\n",
      "KNN_JaccardIndex = 0.0\n",
      "KNN_F1_Score = 0.0\n"
     ]
    }
   ],
   "source": [
    "KNN_Accuracy_Score = accuracy_score(y_test, predictions)\n",
    "KNN_JaccardIndex = jaccard_score(y_test, predictions)\n",
    "KNN_F1_Score = f1_score(y_test, predictions)\n",
    "print(\"KNN_Accuracy_Score =\", KNN_Accuracy_Score)\n",
    "print(\"KNN_JaccardIndex =\", KNN_JaccardIndex)\n",
    "print(\"KNN_F1_Score =\", KNN_F1_Score)"
   ]
  },
  {
   "cell_type": "markdown",
   "id": "254250b6-7c79-4edd-bc79-a19d5e1feac7",
   "metadata": {},
   "source": [
    "### Decision Tree\n"
   ]
  },
  {
   "cell_type": "markdown",
   "id": "b30f6e9d-5346-44c5-8613-e37db294175c",
   "metadata": {},
   "source": [
    "#### Q9) Create and train a Decision Tree model called Tree using the training data (`x_train`, `y_train`).\n"
   ]
  },
  {
   "cell_type": "code",
   "execution_count": null,
   "id": "35367100-4b28-4c41-a5a2-484e45953b57",
   "metadata": {},
   "outputs": [],
   "source": [
    "#Enter Your Code, Execute and take the Screenshot"
   ]
  },
  {
   "cell_type": "code",
   "execution_count": 26,
   "id": "334c059a-1bbb-4aec-9a42-ea46d9238300",
   "metadata": {},
   "outputs": [
    {
     "data": {
      "text/html": [
       "<style>#sk-container-id-2 {color: black;}#sk-container-id-2 pre{padding: 0;}#sk-container-id-2 div.sk-toggleable {background-color: white;}#sk-container-id-2 label.sk-toggleable__label {cursor: pointer;display: block;width: 100%;margin-bottom: 0;padding: 0.3em;box-sizing: border-box;text-align: center;}#sk-container-id-2 label.sk-toggleable__label-arrow:before {content: \"▸\";float: left;margin-right: 0.25em;color: #696969;}#sk-container-id-2 label.sk-toggleable__label-arrow:hover:before {color: black;}#sk-container-id-2 div.sk-estimator:hover label.sk-toggleable__label-arrow:before {color: black;}#sk-container-id-2 div.sk-toggleable__content {max-height: 0;max-width: 0;overflow: hidden;text-align: left;background-color: #f0f8ff;}#sk-container-id-2 div.sk-toggleable__content pre {margin: 0.2em;color: black;border-radius: 0.25em;background-color: #f0f8ff;}#sk-container-id-2 input.sk-toggleable__control:checked~div.sk-toggleable__content {max-height: 200px;max-width: 100%;overflow: auto;}#sk-container-id-2 input.sk-toggleable__control:checked~label.sk-toggleable__label-arrow:before {content: \"▾\";}#sk-container-id-2 div.sk-estimator input.sk-toggleable__control:checked~label.sk-toggleable__label {background-color: #d4ebff;}#sk-container-id-2 div.sk-label input.sk-toggleable__control:checked~label.sk-toggleable__label {background-color: #d4ebff;}#sk-container-id-2 input.sk-hidden--visually {border: 0;clip: rect(1px 1px 1px 1px);clip: rect(1px, 1px, 1px, 1px);height: 1px;margin: -1px;overflow: hidden;padding: 0;position: absolute;width: 1px;}#sk-container-id-2 div.sk-estimator {font-family: monospace;background-color: #f0f8ff;border: 1px dotted black;border-radius: 0.25em;box-sizing: border-box;margin-bottom: 0.5em;}#sk-container-id-2 div.sk-estimator:hover {background-color: #d4ebff;}#sk-container-id-2 div.sk-parallel-item::after {content: \"\";width: 100%;border-bottom: 1px solid gray;flex-grow: 1;}#sk-container-id-2 div.sk-label:hover label.sk-toggleable__label {background-color: #d4ebff;}#sk-container-id-2 div.sk-serial::before {content: \"\";position: absolute;border-left: 1px solid gray;box-sizing: border-box;top: 0;bottom: 0;left: 50%;z-index: 0;}#sk-container-id-2 div.sk-serial {display: flex;flex-direction: column;align-items: center;background-color: white;padding-right: 0.2em;padding-left: 0.2em;position: relative;}#sk-container-id-2 div.sk-item {position: relative;z-index: 1;}#sk-container-id-2 div.sk-parallel {display: flex;align-items: stretch;justify-content: center;background-color: white;position: relative;}#sk-container-id-2 div.sk-item::before, #sk-container-id-2 div.sk-parallel-item::before {content: \"\";position: absolute;border-left: 1px solid gray;box-sizing: border-box;top: 0;bottom: 0;left: 50%;z-index: -1;}#sk-container-id-2 div.sk-parallel-item {display: flex;flex-direction: column;z-index: 1;position: relative;background-color: white;}#sk-container-id-2 div.sk-parallel-item:first-child::after {align-self: flex-end;width: 50%;}#sk-container-id-2 div.sk-parallel-item:last-child::after {align-self: flex-start;width: 50%;}#sk-container-id-2 div.sk-parallel-item:only-child::after {width: 0;}#sk-container-id-2 div.sk-dashed-wrapped {border: 1px dashed gray;margin: 0 0.4em 0.5em 0.4em;box-sizing: border-box;padding-bottom: 0.4em;background-color: white;}#sk-container-id-2 div.sk-label label {font-family: monospace;font-weight: bold;display: inline-block;line-height: 1.2em;}#sk-container-id-2 div.sk-label-container {text-align: center;}#sk-container-id-2 div.sk-container {/* jupyter's `normalize.less` sets `[hidden] { display: none; }` but bootstrap.min.css set `[hidden] { display: none !important; }` so we also need the `!important` here to be able to override the default hidden behavior on the sphinx rendered scikit-learn.org. See: https://github.com/scikit-learn/scikit-learn/issues/21755 */display: inline-block !important;position: relative;}#sk-container-id-2 div.sk-text-repr-fallback {display: none;}</style><div id=\"sk-container-id-2\" class=\"sk-top-container\"><div class=\"sk-text-repr-fallback\"><pre>DecisionTreeClassifier()</pre><b>In a Jupyter environment, please rerun this cell to show the HTML representation or trust the notebook. <br />On GitHub, the HTML representation is unable to render, please try loading this page with nbviewer.org.</b></div><div class=\"sk-container\" hidden><div class=\"sk-item\"><div class=\"sk-estimator sk-toggleable\"><input class=\"sk-toggleable__control sk-hidden--visually\" id=\"sk-estimator-id-2\" type=\"checkbox\" checked><label for=\"sk-estimator-id-2\" class=\"sk-toggleable__label sk-toggleable__label-arrow\">DecisionTreeClassifier</label><div class=\"sk-toggleable__content\"><pre>DecisionTreeClassifier()</pre></div></div></div></div></div>"
      ],
      "text/plain": [
       "DecisionTreeClassifier()"
      ]
     },
     "execution_count": 26,
     "metadata": {},
     "output_type": "execute_result"
    }
   ],
   "source": [
    "Tree = DecisionTreeClassifier()\n",
    "Tree.fit(x_train, y_train)"
   ]
  },
  {
   "cell_type": "markdown",
   "id": "fa602ff2-4de4-46ad-a546-9cbb28c89dc7",
   "metadata": {},
   "source": [
    "#### Q10) Now use the `predict` method on the testing data (`x_test`) and save it to the array `predictions`.\n"
   ]
  },
  {
   "cell_type": "code",
   "execution_count": null,
   "id": "b12305e1-a9f1-4141-9e26-94e8df14b794",
   "metadata": {},
   "outputs": [],
   "source": [
    "#Enter Your Code, Execute and take the Screenshot"
   ]
  },
  {
   "cell_type": "code",
   "execution_count": 27,
   "id": "f2979c54-0dc7-4645-b01d-09d6b4ca1869",
   "metadata": {},
   "outputs": [
    {
     "data": {
      "text/plain": [
       "array([0., 0., 1., 0., 0., 1., 1., 1., 1., 1., 0., 0., 0., 0., 0., 0., 0.,\n",
       "       1., 0., 0., 0., 1., 0., 0., 0., 1., 0., 0., 1., 0., 0., 0., 0., 0.,\n",
       "       0., 1., 0., 0., 0., 0., 0., 0., 0., 0., 0., 1., 0., 0., 1., 0., 0.,\n",
       "       0., 0., 0., 0., 0., 0., 1., 1., 0., 0., 0., 1., 1., 0., 0., 1., 0.,\n",
       "       0., 0., 0., 0., 0., 0., 1., 0., 1., 0., 0., 1., 0., 0., 0., 0., 1.,\n",
       "       0., 1., 1., 1., 0., 0., 0., 0., 0., 0., 1., 0., 1., 0., 0., 0., 0.,\n",
       "       1., 0., 1., 1., 0., 1., 0., 1., 0., 0., 0., 0., 0., 1., 0., 1., 0.,\n",
       "       0., 0., 0., 0., 0., 0., 0., 1., 1., 0., 1., 1., 0., 1., 0., 0., 0.,\n",
       "       0., 0., 0., 1., 1., 0., 0., 0., 1., 0., 0., 0., 0., 0., 0., 1., 0.,\n",
       "       0., 0., 0., 0., 1., 0., 1., 1., 0., 0., 0., 0., 0., 0., 1., 0., 0.,\n",
       "       1., 0., 0., 0., 0., 0., 0., 0., 0., 0., 1., 0., 0., 1., 0., 0., 0.,\n",
       "       0., 1., 0., 0., 1., 0., 0., 0., 0., 0., 0., 0., 0., 1., 0., 0., 0.,\n",
       "       1., 0., 0., 0., 0., 1., 0., 0., 1., 0., 0., 0., 0., 0., 1., 0., 1.,\n",
       "       0., 0., 0., 0., 1., 0., 0., 0., 0., 1., 0., 1., 1., 1., 0., 0., 1.,\n",
       "       1., 0., 1., 1., 0., 0., 0., 0., 1., 0., 0., 1., 0., 0., 0., 1., 0.,\n",
       "       1., 1., 0., 1., 1., 0., 0., 0., 0., 0., 0., 0., 1., 1., 0., 0., 0.,\n",
       "       0., 1., 0., 0., 1., 0., 0., 0., 0., 0., 1., 0., 1., 0., 0., 0., 0.,\n",
       "       0., 0., 0., 0., 0., 0., 0., 0., 1., 0., 1., 1., 0., 0., 0., 0., 0.,\n",
       "       1., 0., 1., 0., 1., 1., 0., 0., 1., 1., 1., 0., 0., 1., 0., 0., 1.,\n",
       "       0., 0., 0., 0., 0., 0., 1., 1., 0., 0., 0., 0., 0., 0., 1., 0., 0.,\n",
       "       0., 0., 0., 0., 0., 0., 0., 0., 0., 0., 0., 0., 1., 0., 0., 0., 0.,\n",
       "       0., 1., 0., 0., 0., 0., 1., 1., 1., 1., 1., 0., 1., 1., 0., 1., 1.,\n",
       "       0., 1., 0., 0., 0., 0., 0., 1., 0., 1., 1., 0., 0., 0., 0., 0., 0.,\n",
       "       0., 1., 0., 0., 0., 1., 0., 1., 1., 0., 0., 0., 1., 0., 0., 0., 0.,\n",
       "       0., 0., 1., 0., 0., 1., 0., 0., 0., 0., 1., 0., 0., 0., 0., 0., 0.,\n",
       "       1., 1., 0., 1., 0., 0., 0., 0., 0., 1., 1., 0., 0., 1., 0., 1., 0.,\n",
       "       0., 1., 1., 1., 0., 0., 1., 1., 0., 0., 0., 0., 0., 0., 1., 0., 1.,\n",
       "       0., 0., 0., 0., 0., 0., 0., 0., 0., 0., 1., 0., 0., 0., 1., 1., 0.,\n",
       "       1., 0., 1., 0., 1., 0., 1., 0., 0., 0., 0., 0., 0., 0., 0., 0., 0.,\n",
       "       0., 1., 0., 0., 0., 1., 0., 0., 1., 1., 0., 0., 0., 0., 0., 1., 0.,\n",
       "       0., 0., 0., 1., 1., 0., 0., 0., 0., 0., 0., 0., 1., 0., 0., 1., 0.,\n",
       "       0., 0., 0., 0., 0., 1., 1., 0., 0., 1., 0., 1., 1., 0., 0., 0., 1.,\n",
       "       0., 1., 1., 1., 0., 0., 0., 0., 1., 0., 1., 1., 1., 0., 0., 0., 0.,\n",
       "       1., 0., 1., 1., 0., 0., 0., 0., 1., 0., 0., 0., 0., 1., 0., 0., 0.,\n",
       "       0., 0., 0., 1., 0., 0., 0., 0., 1., 0., 0., 1., 0., 0., 0., 0., 0.,\n",
       "       0., 0., 1., 0., 0., 0., 0., 1., 0., 0., 0., 1., 0., 1., 0., 0., 0.,\n",
       "       1., 0., 1., 0., 1., 0., 0., 1., 1., 0., 1., 0., 0., 0., 1., 0., 0.,\n",
       "       0., 0., 0., 1., 0., 0., 0., 1., 1., 0., 0., 0., 0., 0., 0., 0., 0.,\n",
       "       1., 1., 0., 0., 0., 1., 1., 0., 0.])"
      ]
     },
     "execution_count": 27,
     "metadata": {},
     "output_type": "execute_result"
    }
   ],
   "source": [
    "predictions = Tree.predict(x_test)\n",
    "predictions"
   ]
  },
  {
   "cell_type": "markdown",
   "id": "a10cfd05-1e28-4dd7-9264-40b0f04f5d5d",
   "metadata": {},
   "source": [
    "#### Q11) Using the `predictions` and the `y_test` dataframe calculate the value for each metric using the appropriate function.\n"
   ]
  },
  {
   "cell_type": "code",
   "execution_count": null,
   "id": "3eea22ea-92de-4821-bd3c-19c2af3fd269",
   "metadata": {},
   "outputs": [],
   "source": [
    "#Enter Your Code, Execute and take the Screenshot"
   ]
  },
  {
   "cell_type": "code",
   "execution_count": 32,
   "id": "d0d64e8e-b6b4-4f30-bd79-f043bf56e53c",
   "metadata": {},
   "outputs": [
    {
     "name": "stdout",
     "output_type": "stream",
     "text": [
      "Tree_Accuracy_Score = 0.7603053435114504\n",
      "Tree_JaccardIndex = 0.4053030303030303\n",
      "Tree_F1_Score = 0.5768194070080863\n"
     ]
    }
   ],
   "source": [
    "Tree_Accuracy_Score = accuracy_score(y_test, predictions)\n",
    "Tree_JaccardIndex = jaccard_score(y_test, predictions)\n",
    "Tree_F1_Score = f1_score(y_test, predictions)\n",
    "print(\"Tree_Accuracy_Score =\", Tree_Accuracy_Score)\n",
    "print(\"Tree_JaccardIndex =\", Tree_JaccardIndex)\n",
    "print(\"Tree_F1_Score =\", Tree_F1_Score)"
   ]
  },
  {
   "cell_type": "markdown",
   "id": "b003ddfe-0e3b-4223-8070-dfe43a43151b",
   "metadata": {},
   "source": [
    "### Logistic Regression\n"
   ]
  },
  {
   "cell_type": "markdown",
   "id": "f7bad94e-e258-4def-9d0f-990049863fe6",
   "metadata": {},
   "source": [
    "#### Q12) Use the `train_test_split` function to split the `features` and `Y` dataframes with a `test_size` of `0.2` and the `random_state` set to `1`.\n"
   ]
  },
  {
   "cell_type": "code",
   "execution_count": null,
   "id": "8076d7ad-2779-4904-a85e-2e968552aa86",
   "metadata": {},
   "outputs": [],
   "source": [
    "#Enter Your Code, Execute and take the Screenshot"
   ]
  },
  {
   "cell_type": "code",
   "execution_count": 35,
   "id": "bdab2381-8d87-4042-bf49-b631e74d9909",
   "metadata": {},
   "outputs": [],
   "source": [
    "x_train, x_test, y_train, y_test = train_test_split(features, Y, test_size=0.2, random_state=1)"
   ]
  },
  {
   "cell_type": "markdown",
   "id": "82a2c86c-25b4-4891-9690-f2252356a67b",
   "metadata": {},
   "source": [
    "#### Q13) Create and train a LogisticRegression model called LR using the training data (`x_train`, `y_train`) with the `solver` parameter set to `liblinear`.\n"
   ]
  },
  {
   "cell_type": "code",
   "execution_count": null,
   "id": "1849f771-dff8-4222-a12b-1fec77da9a50",
   "metadata": {},
   "outputs": [],
   "source": [
    "#Enter Your Code, Execute and take the Screenshot"
   ]
  },
  {
   "cell_type": "code",
   "execution_count": 36,
   "id": "743428f1-7022-4e74-822a-8c1bd1279aaf",
   "metadata": {},
   "outputs": [
    {
     "data": {
      "text/html": [
       "<style>#sk-container-id-3 {color: black;}#sk-container-id-3 pre{padding: 0;}#sk-container-id-3 div.sk-toggleable {background-color: white;}#sk-container-id-3 label.sk-toggleable__label {cursor: pointer;display: block;width: 100%;margin-bottom: 0;padding: 0.3em;box-sizing: border-box;text-align: center;}#sk-container-id-3 label.sk-toggleable__label-arrow:before {content: \"▸\";float: left;margin-right: 0.25em;color: #696969;}#sk-container-id-3 label.sk-toggleable__label-arrow:hover:before {color: black;}#sk-container-id-3 div.sk-estimator:hover label.sk-toggleable__label-arrow:before {color: black;}#sk-container-id-3 div.sk-toggleable__content {max-height: 0;max-width: 0;overflow: hidden;text-align: left;background-color: #f0f8ff;}#sk-container-id-3 div.sk-toggleable__content pre {margin: 0.2em;color: black;border-radius: 0.25em;background-color: #f0f8ff;}#sk-container-id-3 input.sk-toggleable__control:checked~div.sk-toggleable__content {max-height: 200px;max-width: 100%;overflow: auto;}#sk-container-id-3 input.sk-toggleable__control:checked~label.sk-toggleable__label-arrow:before {content: \"▾\";}#sk-container-id-3 div.sk-estimator input.sk-toggleable__control:checked~label.sk-toggleable__label {background-color: #d4ebff;}#sk-container-id-3 div.sk-label input.sk-toggleable__control:checked~label.sk-toggleable__label {background-color: #d4ebff;}#sk-container-id-3 input.sk-hidden--visually {border: 0;clip: rect(1px 1px 1px 1px);clip: rect(1px, 1px, 1px, 1px);height: 1px;margin: -1px;overflow: hidden;padding: 0;position: absolute;width: 1px;}#sk-container-id-3 div.sk-estimator {font-family: monospace;background-color: #f0f8ff;border: 1px dotted black;border-radius: 0.25em;box-sizing: border-box;margin-bottom: 0.5em;}#sk-container-id-3 div.sk-estimator:hover {background-color: #d4ebff;}#sk-container-id-3 div.sk-parallel-item::after {content: \"\";width: 100%;border-bottom: 1px solid gray;flex-grow: 1;}#sk-container-id-3 div.sk-label:hover label.sk-toggleable__label {background-color: #d4ebff;}#sk-container-id-3 div.sk-serial::before {content: \"\";position: absolute;border-left: 1px solid gray;box-sizing: border-box;top: 0;bottom: 0;left: 50%;z-index: 0;}#sk-container-id-3 div.sk-serial {display: flex;flex-direction: column;align-items: center;background-color: white;padding-right: 0.2em;padding-left: 0.2em;position: relative;}#sk-container-id-3 div.sk-item {position: relative;z-index: 1;}#sk-container-id-3 div.sk-parallel {display: flex;align-items: stretch;justify-content: center;background-color: white;position: relative;}#sk-container-id-3 div.sk-item::before, #sk-container-id-3 div.sk-parallel-item::before {content: \"\";position: absolute;border-left: 1px solid gray;box-sizing: border-box;top: 0;bottom: 0;left: 50%;z-index: -1;}#sk-container-id-3 div.sk-parallel-item {display: flex;flex-direction: column;z-index: 1;position: relative;background-color: white;}#sk-container-id-3 div.sk-parallel-item:first-child::after {align-self: flex-end;width: 50%;}#sk-container-id-3 div.sk-parallel-item:last-child::after {align-self: flex-start;width: 50%;}#sk-container-id-3 div.sk-parallel-item:only-child::after {width: 0;}#sk-container-id-3 div.sk-dashed-wrapped {border: 1px dashed gray;margin: 0 0.4em 0.5em 0.4em;box-sizing: border-box;padding-bottom: 0.4em;background-color: white;}#sk-container-id-3 div.sk-label label {font-family: monospace;font-weight: bold;display: inline-block;line-height: 1.2em;}#sk-container-id-3 div.sk-label-container {text-align: center;}#sk-container-id-3 div.sk-container {/* jupyter's `normalize.less` sets `[hidden] { display: none; }` but bootstrap.min.css set `[hidden] { display: none !important; }` so we also need the `!important` here to be able to override the default hidden behavior on the sphinx rendered scikit-learn.org. See: https://github.com/scikit-learn/scikit-learn/issues/21755 */display: inline-block !important;position: relative;}#sk-container-id-3 div.sk-text-repr-fallback {display: none;}</style><div id=\"sk-container-id-3\" class=\"sk-top-container\"><div class=\"sk-text-repr-fallback\"><pre>LogisticRegression(C=0.01, solver=&#x27;liblinear&#x27;)</pre><b>In a Jupyter environment, please rerun this cell to show the HTML representation or trust the notebook. <br />On GitHub, the HTML representation is unable to render, please try loading this page with nbviewer.org.</b></div><div class=\"sk-container\" hidden><div class=\"sk-item\"><div class=\"sk-estimator sk-toggleable\"><input class=\"sk-toggleable__control sk-hidden--visually\" id=\"sk-estimator-id-3\" type=\"checkbox\" checked><label for=\"sk-estimator-id-3\" class=\"sk-toggleable__label sk-toggleable__label-arrow\">LogisticRegression</label><div class=\"sk-toggleable__content\"><pre>LogisticRegression(C=0.01, solver=&#x27;liblinear&#x27;)</pre></div></div></div></div></div>"
      ],
      "text/plain": [
       "LogisticRegression(C=0.01, solver='liblinear')"
      ]
     },
     "execution_count": 36,
     "metadata": {},
     "output_type": "execute_result"
    }
   ],
   "source": [
    "LR = LogisticRegression(C=0.01, solver='liblinear')\n",
    "LR.fit(x_train, y_train)"
   ]
  },
  {
   "cell_type": "markdown",
   "id": "edf1789d-873e-4243-a34d-6c40b6a92bc0",
   "metadata": {},
   "source": [
    "#### Q14) Now, use the `predict` and `predict_proba` methods on the testing data (`x_test`) and save it as 2 arrays `predictions` and `predict_proba`.\n"
   ]
  },
  {
   "cell_type": "code",
   "execution_count": null,
   "id": "d5eb1f2c-68f0-494a-9273-bf2beb373299",
   "metadata": {},
   "outputs": [],
   "source": [
    "#Enter Your Code, Execute and take the Screenshot"
   ]
  },
  {
   "cell_type": "code",
   "execution_count": 38,
   "id": "80fb13fc-ad37-43a6-8abc-18d5245c1a92",
   "metadata": {},
   "outputs": [
    {
     "data": {
      "text/plain": [
       "array([0., 0., 1., 0., 0., 1., 0., 0., 0., 0., 1., 0., 0., 0., 0., 0., 1.,\n",
       "       0., 0., 0., 0., 1., 0., 0., 0., 0., 0., 0., 0., 0., 1., 0., 0., 1.,\n",
       "       1., 1., 1., 0., 1., 0., 0., 0., 0., 0., 0., 0., 0., 0., 0., 0., 1.,\n",
       "       0., 1., 0., 1., 1., 0., 0., 0., 0., 0., 0., 0., 0., 0., 0., 0., 0.,\n",
       "       0., 0., 0., 1., 0., 0., 0., 0., 0., 0., 0., 0., 0., 0., 1., 0., 1.,\n",
       "       0., 0., 0., 1., 0., 0., 0., 0., 0., 1., 0., 0., 0., 0., 0., 0., 1.,\n",
       "       0., 1., 1., 0., 0., 0., 0., 0., 0., 0., 1., 1., 0., 0., 1., 0., 0.,\n",
       "       0., 1., 0., 0., 0., 0., 0., 0., 0., 0., 0., 0., 0., 0., 0., 1., 0.,\n",
       "       0., 0., 0., 1., 0., 1., 0., 0., 0., 1., 0., 1., 1., 0., 0., 0., 1.,\n",
       "       0., 0., 1., 0., 0., 1., 0., 1., 0., 1., 1., 0., 0., 0., 0., 0., 0.,\n",
       "       0., 0., 0., 1., 0., 0., 0., 0., 0., 1., 1., 0., 0., 1., 1., 1., 0.,\n",
       "       0., 0., 0., 0., 0., 1., 0., 0., 1., 0., 1., 0., 0., 0., 0., 0., 0.,\n",
       "       0., 1., 1., 0., 0., 1., 0., 0., 0., 1., 0., 0., 0., 1., 0., 0., 0.,\n",
       "       1., 0., 1., 1., 0., 0., 0., 0., 0., 1., 1., 0., 0., 0., 0., 0., 0.,\n",
       "       0., 1., 0., 0., 1., 0., 0., 1., 1., 1., 0., 0., 0., 0., 0., 0., 1.,\n",
       "       0., 0., 0., 0., 1., 1., 1., 0., 0., 0., 0., 0., 0., 0., 0., 0., 0.,\n",
       "       0., 0., 0., 0., 0., 0., 1., 0., 1., 0., 0., 1., 1., 0., 0., 0., 0.,\n",
       "       1., 1., 0., 0., 1., 0., 1., 0., 0., 0., 0., 1., 0., 0., 0., 0., 1.,\n",
       "       1., 0., 0., 0., 1., 0., 0., 0., 1., 1., 0., 0., 0., 0., 0., 0., 0.,\n",
       "       0., 0., 1., 0., 0., 1., 1., 0., 0., 1., 0., 0., 0., 0., 0., 0., 0.,\n",
       "       1., 1., 0., 0., 1., 1., 1., 0., 1., 0., 0., 1., 0., 0., 0., 0., 0.,\n",
       "       0., 0., 0., 0., 0., 0., 0., 0., 1., 0., 0., 0., 0., 0., 0., 0., 0.,\n",
       "       0., 1., 0., 0., 0., 0., 0., 0., 0., 0., 0., 0., 0., 0., 1., 1., 0.,\n",
       "       0., 0., 0., 0., 0., 1., 0., 0., 0., 0., 0., 0., 0., 0., 0., 0., 0.,\n",
       "       0., 0., 0., 0., 0., 0., 0., 0., 0., 0., 0., 0., 0., 0., 0., 0., 0.,\n",
       "       0., 0., 0., 0., 0., 0., 0., 1., 0., 0., 0., 0., 0., 0., 0., 1., 1.,\n",
       "       1., 0., 0., 0., 1., 0., 1., 0., 0., 0., 0., 1., 0., 0., 0., 0., 0.,\n",
       "       0., 1., 0., 0., 1., 1., 0., 0., 1., 0., 0., 0., 0., 1., 1., 0., 0.,\n",
       "       1., 0., 0., 1., 0., 0., 0., 0., 0., 0., 1., 0., 0., 1., 1., 0., 1.,\n",
       "       0., 0., 0., 0., 0., 1., 0., 0., 1., 0., 0., 1., 0., 0., 0., 1., 0.,\n",
       "       0., 0., 0., 0., 0., 1., 0., 0., 1., 0., 0., 0., 0., 0., 0., 0., 0.,\n",
       "       0., 0., 0., 0., 0., 0., 0., 1., 0., 1., 0., 0., 1., 0., 0., 0., 0.,\n",
       "       0., 1., 0., 0., 0., 0., 0., 0., 0., 0., 0., 0., 0., 0., 0., 0., 0.,\n",
       "       0., 1., 1., 0., 0., 0., 0., 0., 0., 0., 1., 1., 0., 0., 0., 0., 0.,\n",
       "       0., 0., 0., 0., 0., 1., 0., 1., 0., 0., 0., 0., 1., 0., 0., 0., 0.,\n",
       "       0., 0., 0., 0., 1., 0., 0., 0., 0., 0., 0., 0., 0., 0., 0., 0., 0.,\n",
       "       0., 0., 0., 0., 1., 0., 0., 0., 0., 0., 0., 0., 0., 0., 1., 0., 0.,\n",
       "       0., 0., 1., 0., 0., 0., 1., 0., 0., 0., 0., 0., 1., 0., 0., 1., 0.,\n",
       "       0., 0., 1., 0., 1., 0., 0., 0., 1.])"
      ]
     },
     "execution_count": 38,
     "metadata": {},
     "output_type": "execute_result"
    }
   ],
   "source": [
    "predictions = LR.predict(x_test)\n",
    "predictions"
   ]
  },
  {
   "cell_type": "code",
   "execution_count": 40,
   "id": "8d5a88b1-37c1-440e-a53a-058ad355cf65",
   "metadata": {},
   "outputs": [
    {
     "data": {
      "text/plain": [
       "array([[0.71865806, 0.28134194],\n",
       "       [0.97588275, 0.02411725],\n",
       "       [0.49701229, 0.50298771],\n",
       "       ...,\n",
       "       [0.9726416 , 0.0273584 ],\n",
       "       [0.73341012, 0.26658988],\n",
       "       [0.38535931, 0.61464069]])"
      ]
     },
     "execution_count": 40,
     "metadata": {},
     "output_type": "execute_result"
    }
   ],
   "source": [
    "predict_proba = LR.predict_proba(x_test)\n",
    "predict_proba"
   ]
  },
  {
   "cell_type": "markdown",
   "id": "1aeddde4-ecbe-47b2-970c-04353199e89a",
   "metadata": {},
   "source": [
    "#### Q15) Using the `predictions`, `predict_proba` and the `y_test` dataframe calculate the value for each metric using the appropriate function.\n"
   ]
  },
  {
   "cell_type": "code",
   "execution_count": null,
   "id": "44877e6c-bfd4-417f-8183-a5618e1c2dfe",
   "metadata": {},
   "outputs": [],
   "source": [
    "#Enter Your Code, Execute and take the Screenshot"
   ]
  },
  {
   "cell_type": "code",
   "execution_count": 43,
   "id": "78e4bcbe-b39a-4df0-a700-69c9345d60e4",
   "metadata": {},
   "outputs": [
    {
     "name": "stdout",
     "output_type": "stream",
     "text": [
      "Logistic Regression Metrics:\n",
      "Accuracy Score=  0.8274809160305343\n",
      "Jaccard Index= 0.4840182648401826\n",
      "F1 Score= 0.6523076923076923\n",
      "LR_Log_Loss: 0.38008471302376395\n"
     ]
    }
   ],
   "source": [
    "LR_Accuracy_Score = accuracy_score(y_test, predictions)\n",
    "LR_JaccardIndex = jaccard_score(y_test, predictions)\n",
    "LR_F1_Score = f1_score(y_test, predictions)\n",
    "LR_Log_Loss = log_loss(y_test, predict_proba)\n",
    "print(\"Logistic Regression Metrics:\")\n",
    "print(\"Accuracy Score= \", LR_Accuracy_Score)\n",
    "print(\"Jaccard Index=\", LR_JaccardIndex)\n",
    "print(\"F1 Score=\", LR_F1_Score)\n",
    "print(\"LR_Log_Loss:\", LR_Log_Loss)"
   ]
  },
  {
   "cell_type": "markdown",
   "id": "8d58b0b2-b31e-41e5-b52f-262f71f3e259",
   "metadata": {},
   "source": [
    "### SVM\n"
   ]
  },
  {
   "cell_type": "markdown",
   "id": "838f35c6-c940-4c8d-bbe4-5b9dd2f17083",
   "metadata": {},
   "source": [
    "#### Q16) Create and train a SVM model called SVM using the training data (`x_train`, `y_train`).\n"
   ]
  },
  {
   "cell_type": "code",
   "execution_count": null,
   "id": "6cae5b0d-1377-46d0-8783-685249607c54",
   "metadata": {},
   "outputs": [],
   "source": [
    "#Enter Your Code Below, Execute, and Save the Screenshot of the Final Output"
   ]
  },
  {
   "cell_type": "code",
   "execution_count": 45,
   "id": "1e605611-dfcd-48ef-9190-5e7c12404b16",
   "metadata": {},
   "outputs": [
    {
     "data": {
      "text/html": [
       "<style>#sk-container-id-4 {color: black;}#sk-container-id-4 pre{padding: 0;}#sk-container-id-4 div.sk-toggleable {background-color: white;}#sk-container-id-4 label.sk-toggleable__label {cursor: pointer;display: block;width: 100%;margin-bottom: 0;padding: 0.3em;box-sizing: border-box;text-align: center;}#sk-container-id-4 label.sk-toggleable__label-arrow:before {content: \"▸\";float: left;margin-right: 0.25em;color: #696969;}#sk-container-id-4 label.sk-toggleable__label-arrow:hover:before {color: black;}#sk-container-id-4 div.sk-estimator:hover label.sk-toggleable__label-arrow:before {color: black;}#sk-container-id-4 div.sk-toggleable__content {max-height: 0;max-width: 0;overflow: hidden;text-align: left;background-color: #f0f8ff;}#sk-container-id-4 div.sk-toggleable__content pre {margin: 0.2em;color: black;border-radius: 0.25em;background-color: #f0f8ff;}#sk-container-id-4 input.sk-toggleable__control:checked~div.sk-toggleable__content {max-height: 200px;max-width: 100%;overflow: auto;}#sk-container-id-4 input.sk-toggleable__control:checked~label.sk-toggleable__label-arrow:before {content: \"▾\";}#sk-container-id-4 div.sk-estimator input.sk-toggleable__control:checked~label.sk-toggleable__label {background-color: #d4ebff;}#sk-container-id-4 div.sk-label input.sk-toggleable__control:checked~label.sk-toggleable__label {background-color: #d4ebff;}#sk-container-id-4 input.sk-hidden--visually {border: 0;clip: rect(1px 1px 1px 1px);clip: rect(1px, 1px, 1px, 1px);height: 1px;margin: -1px;overflow: hidden;padding: 0;position: absolute;width: 1px;}#sk-container-id-4 div.sk-estimator {font-family: monospace;background-color: #f0f8ff;border: 1px dotted black;border-radius: 0.25em;box-sizing: border-box;margin-bottom: 0.5em;}#sk-container-id-4 div.sk-estimator:hover {background-color: #d4ebff;}#sk-container-id-4 div.sk-parallel-item::after {content: \"\";width: 100%;border-bottom: 1px solid gray;flex-grow: 1;}#sk-container-id-4 div.sk-label:hover label.sk-toggleable__label {background-color: #d4ebff;}#sk-container-id-4 div.sk-serial::before {content: \"\";position: absolute;border-left: 1px solid gray;box-sizing: border-box;top: 0;bottom: 0;left: 50%;z-index: 0;}#sk-container-id-4 div.sk-serial {display: flex;flex-direction: column;align-items: center;background-color: white;padding-right: 0.2em;padding-left: 0.2em;position: relative;}#sk-container-id-4 div.sk-item {position: relative;z-index: 1;}#sk-container-id-4 div.sk-parallel {display: flex;align-items: stretch;justify-content: center;background-color: white;position: relative;}#sk-container-id-4 div.sk-item::before, #sk-container-id-4 div.sk-parallel-item::before {content: \"\";position: absolute;border-left: 1px solid gray;box-sizing: border-box;top: 0;bottom: 0;left: 50%;z-index: -1;}#sk-container-id-4 div.sk-parallel-item {display: flex;flex-direction: column;z-index: 1;position: relative;background-color: white;}#sk-container-id-4 div.sk-parallel-item:first-child::after {align-self: flex-end;width: 50%;}#sk-container-id-4 div.sk-parallel-item:last-child::after {align-self: flex-start;width: 50%;}#sk-container-id-4 div.sk-parallel-item:only-child::after {width: 0;}#sk-container-id-4 div.sk-dashed-wrapped {border: 1px dashed gray;margin: 0 0.4em 0.5em 0.4em;box-sizing: border-box;padding-bottom: 0.4em;background-color: white;}#sk-container-id-4 div.sk-label label {font-family: monospace;font-weight: bold;display: inline-block;line-height: 1.2em;}#sk-container-id-4 div.sk-label-container {text-align: center;}#sk-container-id-4 div.sk-container {/* jupyter's `normalize.less` sets `[hidden] { display: none; }` but bootstrap.min.css set `[hidden] { display: none !important; }` so we also need the `!important` here to be able to override the default hidden behavior on the sphinx rendered scikit-learn.org. See: https://github.com/scikit-learn/scikit-learn/issues/21755 */display: inline-block !important;position: relative;}#sk-container-id-4 div.sk-text-repr-fallback {display: none;}</style><div id=\"sk-container-id-4\" class=\"sk-top-container\"><div class=\"sk-text-repr-fallback\"><pre>SVC(kernel=&#x27;linear&#x27;)</pre><b>In a Jupyter environment, please rerun this cell to show the HTML representation or trust the notebook. <br />On GitHub, the HTML representation is unable to render, please try loading this page with nbviewer.org.</b></div><div class=\"sk-container\" hidden><div class=\"sk-item\"><div class=\"sk-estimator sk-toggleable\"><input class=\"sk-toggleable__control sk-hidden--visually\" id=\"sk-estimator-id-4\" type=\"checkbox\" checked><label for=\"sk-estimator-id-4\" class=\"sk-toggleable__label sk-toggleable__label-arrow\">SVC</label><div class=\"sk-toggleable__content\"><pre>SVC(kernel=&#x27;linear&#x27;)</pre></div></div></div></div></div>"
      ],
      "text/plain": [
       "SVC(kernel='linear')"
      ]
     },
     "execution_count": 45,
     "metadata": {},
     "output_type": "execute_result"
    }
   ],
   "source": [
    "SVM = svm.SVC(kernel='linear')\n",
    "SVM.fit(x_train, y_train)"
   ]
  },
  {
   "cell_type": "markdown",
   "id": "a77423b3-cee7-4ad9-9548-fda634e5b035",
   "metadata": {},
   "source": [
    "#### Q17) Now use the `predict` method on the testing data (`x_test`) and save it to the array `predictions`.\n"
   ]
  },
  {
   "cell_type": "code",
   "execution_count": null,
   "id": "5d800c75-5348-48bd-87f3-f6e44222ea1d",
   "metadata": {},
   "outputs": [],
   "source": [
    "#Enter Your Code Below, Execute, and Save the Screenshot of the Final Output"
   ]
  },
  {
   "cell_type": "code",
   "execution_count": 47,
   "id": "89ac8f54-9caa-4e88-9189-7369aa575f8a",
   "metadata": {},
   "outputs": [
    {
     "data": {
      "text/plain": [
       "array([0., 0., 0., 0., 0., 1., 0., 0., 0., 0., 1., 1., 0., 0., 0., 0., 1.,\n",
       "       0., 0., 0., 1., 1., 0., 0., 0., 0., 0., 0., 0., 0., 0., 0., 0., 1.,\n",
       "       1., 0., 1., 0., 1., 0., 0., 0., 0., 0., 0., 0., 0., 0., 0., 1., 1.,\n",
       "       0., 1., 0., 1., 1., 0., 0., 0., 0., 0., 0., 0., 0., 0., 0., 0., 0.,\n",
       "       0., 0., 0., 1., 0., 0., 0., 0., 0., 0., 0., 0., 0., 0., 0., 0., 1.,\n",
       "       0., 0., 0., 1., 0., 0., 1., 0., 0., 1., 0., 0., 0., 0., 0., 0., 1.,\n",
       "       0., 1., 1., 0., 0., 0., 0., 0., 0., 0., 1., 1., 0., 0., 1., 0., 0.,\n",
       "       0., 1., 0., 0., 0., 0., 0., 0., 0., 1., 0., 0., 0., 0., 0., 1., 1.,\n",
       "       0., 0., 0., 1., 0., 1., 0., 0., 0., 1., 0., 1., 1., 0., 0., 0., 1.,\n",
       "       0., 0., 1., 0., 0., 1., 0., 1., 0., 1., 1., 0., 0., 0., 0., 0., 0.,\n",
       "       0., 0., 0., 1., 0., 0., 0., 0., 0., 1., 1., 0., 0., 0., 1., 1., 0.,\n",
       "       0., 0., 0., 0., 0., 1., 0., 0., 1., 0., 1., 0., 0., 0., 0., 0., 0.,\n",
       "       0., 1., 1., 0., 0., 1., 0., 0., 0., 1., 0., 0., 0., 1., 0., 0., 0.,\n",
       "       1., 0., 1., 1., 0., 0., 0., 0., 0., 1., 1., 0., 0., 0., 0., 0., 0.,\n",
       "       0., 1., 0., 0., 1., 0., 0., 0., 1., 1., 0., 0., 0., 0., 0., 0., 1.,\n",
       "       0., 0., 0., 0., 1., 1., 1., 0., 0., 0., 0., 0., 0., 0., 0., 0., 0.,\n",
       "       0., 0., 0., 0., 0., 0., 1., 0., 0., 0., 0., 1., 1., 0., 0., 0., 0.,\n",
       "       1., 1., 0., 0., 0., 0., 1., 0., 0., 0., 0., 1., 0., 0., 0., 0., 0.,\n",
       "       1., 0., 0., 0., 1., 0., 0., 0., 0., 1., 0., 0., 0., 0., 0., 0., 0.,\n",
       "       0., 0., 1., 0., 0., 1., 0., 0., 0., 1., 0., 0., 0., 0., 0., 0., 0.,\n",
       "       1., 1., 0., 0., 1., 0., 1., 0., 1., 0., 0., 1., 0., 0., 0., 0., 0.,\n",
       "       0., 0., 0., 0., 0., 0., 0., 0., 1., 0., 0., 0., 0., 0., 0., 0., 0.,\n",
       "       0., 1., 0., 0., 1., 0., 0., 0., 0., 0., 0., 1., 0., 0., 1., 1., 0.,\n",
       "       0., 0., 0., 0., 0., 1., 0., 0., 0., 0., 0., 0., 0., 0., 0., 0., 0.,\n",
       "       0., 0., 0., 0., 0., 0., 1., 0., 0., 0., 0., 0., 0., 0., 0., 0., 0.,\n",
       "       0., 0., 0., 0., 0., 0., 0., 0., 0., 0., 0., 0., 0., 0., 0., 1., 1.,\n",
       "       1., 0., 0., 0., 1., 0., 1., 0., 0., 0., 0., 1., 0., 0., 0., 0., 0.,\n",
       "       0., 1., 0., 0., 1., 1., 0., 0., 1., 0., 0., 0., 0., 0., 1., 0., 0.,\n",
       "       1., 0., 0., 1., 1., 0., 0., 0., 0., 0., 1., 0., 0., 1., 1., 0., 1.,\n",
       "       0., 0., 0., 0., 0., 1., 0., 0., 1., 0., 0., 0., 0., 0., 0., 1., 0.,\n",
       "       0., 0., 0., 0., 0., 1., 0., 0., 1., 0., 0., 0., 0., 0., 0., 0., 0.,\n",
       "       0., 0., 0., 0., 0., 0., 1., 1., 0., 1., 0., 0., 1., 0., 0., 0., 0.,\n",
       "       0., 1., 0., 0., 0., 0., 0., 0., 0., 0., 1., 0., 0., 0., 0., 0., 0.,\n",
       "       0., 1., 1., 0., 0., 0., 0., 0., 0., 0., 1., 1., 0., 0., 0., 0., 0.,\n",
       "       1., 0., 0., 0., 0., 1., 0., 1., 0., 0., 0., 0., 1., 0., 0., 0., 0.,\n",
       "       0., 0., 0., 1., 1., 0., 0., 1., 0., 0., 0., 0., 1., 0., 0., 0., 0.,\n",
       "       0., 0., 0., 0., 1., 0., 0., 0., 0., 1., 0., 0., 0., 0., 1., 0., 0.,\n",
       "       0., 0., 1., 0., 0., 1., 1., 0., 0., 0., 1., 0., 1., 0., 0., 1., 0.,\n",
       "       0., 0., 1., 0., 1., 0., 0., 0., 1.])"
      ]
     },
     "execution_count": 47,
     "metadata": {},
     "output_type": "execute_result"
    }
   ],
   "source": [
    "predictions = SVM.predict(x_test)\n",
    "predictions"
   ]
  },
  {
   "cell_type": "markdown",
   "id": "072c9838-83cc-4e6e-b70f-80f3cd7bf1ab",
   "metadata": {},
   "source": [
    "#### Q18) Using the `predictions` and the `y_test` dataframe calculate the value for each metric using the appropriate function.\n"
   ]
  },
  {
   "cell_type": "code",
   "execution_count": 48,
   "id": "4cf0dc36-b215-4061-9cda-f38b9db1739c",
   "metadata": {},
   "outputs": [
    {
     "name": "stdout",
     "output_type": "stream",
     "text": [
      "Accuracy Score=  0.8274809160305343\n",
      "Jaccard Index= 0.4840182648401826\n",
      "F1 Score= 0.6523076923076923\n"
     ]
    }
   ],
   "source": [
    "SVM_Accuracy_Score = accuracy_score(y_test, predictions)\n",
    "SVM_JaccardIndex = jaccard_score(y_test, predictions)\n",
    "SVM_F1_Score = f1_score(y_test, predictions)\n",
    "print(\"Accuracy Score= \", LR_Accuracy_Score)\n",
    "print(\"Jaccard Index=\", LR_JaccardIndex)\n",
    "print(\"F1 Score=\", LR_F1_Score)"
   ]
  },
  {
   "cell_type": "markdown",
   "id": "506f03ee-5914-40fa-b6c3-787afc728957",
   "metadata": {},
   "source": [
    "### Report\n"
   ]
  },
  {
   "cell_type": "markdown",
   "id": "1730801e-e027-4429-b0e6-40590fb5ab23",
   "metadata": {},
   "source": [
    "#### Q19) Show the Accuracy,Jaccard Index,F1-Score and LogLoss in a tabular format using data frame for all of the above models.\n",
    "\n",
    "\\*LogLoss is only for Logistic Regression Model\n"
   ]
  },
  {
   "cell_type": "code",
   "execution_count": 54,
   "id": "b6b2cee7-4b35-4677-b3ae-c75b1cd29413",
   "metadata": {},
   "outputs": [
    {
     "name": "stdout",
     "output_type": "stream",
     "text": [
      "                 Model  Accuracy  Jaccard Index  F1-Score   LogLoss\n",
      "0  Logistic Regression  0.827481       0.484018  0.652308  0.380085\n",
      "1                  KNN  0.722137       0.000000  0.000000       NaN\n",
      "2        Decision Tree  0.958779       0.861538  0.925620       NaN\n",
      "3                  SVM  0.845802       0.530233  0.693009       NaN\n"
     ]
    }
   ],
   "source": [
    "import pandas as pd\n",
    "from sklearn.metrics import accuracy_score, jaccard_score, f1_score, log_loss\n",
    "\n",
    "# Calculating evaluation metrics for each model\n",
    "LR_metrics = [accuracy_score(y_test, LR.predict(x_test)),\n",
    "              jaccard_score(y_test, LR.predict(x_test)),\n",
    "              f1_score(y_test, LR.predict(x_test)),\n",
    "              log_loss(y_test, LR.predict_proba(x_test))]\n",
    "\n",
    "KNN_metrics = [accuracy_score(y_test, KNN.predict(x_test1)),\n",
    "               jaccard_score(y_test, KNN.predict(x_test1)),\n",
    "               f1_score(y_test, KNN.predict(x_test1)),\n",
    "               None]  # KNN doesn't have log_loss\n",
    "\n",
    "Tree_metrics = [accuracy_score(y_test, Tree.predict(x_test)),\n",
    "                jaccard_score(y_test, Tree.predict(x_test)),\n",
    "                f1_score(y_test, Tree.predict(x_test)),\n",
    "                None]  # Decision tree doesn't have log_loss\n",
    "\n",
    "SVM_metrics = [accuracy_score(y_test, SVM.predict(x_test)),\n",
    "               jaccard_score(y_test, SVM.predict(x_test)),\n",
    "               f1_score(y_test, SVM.predict(x_test)),\n",
    "               None]  # SVM doesn't have log_loss\n",
    "\n",
    "# Creating a DataFrame\n",
    "data = {\n",
    "    'Model': ['Logistic Regression', 'KNN', 'Decision Tree', 'SVM'],\n",
    "    'Accuracy': [LR_metrics[0], KNN_metrics[0], Tree_metrics[0], SVM_metrics[0]],\n",
    "    'Jaccard Index': [LR_metrics[1], KNN_metrics[1], Tree_metrics[1], SVM_metrics[1]],\n",
    "    'F1-Score': [LR_metrics[2], KNN_metrics[2], Tree_metrics[2], SVM_metrics[2]],\n",
    "    'LogLoss': [LR_metrics[3], KNN_metrics[3], Tree_metrics[3], SVM_metrics[3]]\n",
    "}\n",
    "\n",
    "report = pd.DataFrame(data)\n",
    "print(report)\n"
   ]
  },
  {
   "cell_type": "code",
   "execution_count": null,
   "metadata": {},
   "outputs": [],
   "source": []
  }
 ],
 "metadata": {
  "kernelspec": {
   "display_name": "Python 3 (ipykernel)",
   "language": "python",
   "name": "python3"
  },
  "language_info": {
   "codemirror_mode": {
    "name": "ipython",
    "version": 3
   },
   "file_extension": ".py",
   "mimetype": "text/x-python",
   "name": "python",
   "nbconvert_exporter": "python",
   "pygments_lexer": "ipython3",
   "version": "3.11.4"
  }
 },
 "nbformat": 4,
 "nbformat_minor": 4
}
